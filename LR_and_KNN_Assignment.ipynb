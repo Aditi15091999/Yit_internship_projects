{
  "nbformat": 4,
  "nbformat_minor": 0,
  "metadata": {
    "colab": {
      "name": "LR and KNN Assignment.ipynb",
      "provenance": [],
      "collapsed_sections": [],
      "authorship_tag": "ABX9TyNEECyXpo0YzWGKx2XVFEl5",
      "include_colab_link": true
    },
    "kernelspec": {
      "name": "python3",
      "display_name": "Python 3"
    }
  },
  "cells": [
    {
      "cell_type": "markdown",
      "metadata": {
        "id": "view-in-github",
        "colab_type": "text"
      },
      "source": [
        "<a href=\"https://colab.research.google.com/github/Aditi15091999/Yit_internship_projects/blob/master/LR_and_KNN_Assignment.ipynb\" target=\"_parent\"><img src=\"https://colab.research.google.com/assets/colab-badge.svg\" alt=\"Open In Colab\"/></a>"
      ]
    },
    {
      "cell_type": "markdown",
      "metadata": {
        "id": "QqZp6FSzLfyt",
        "colab_type": "text"
      },
      "source": [
        "**STEP 1:Loading the data and creating the dataframe**"
      ]
    },
    {
      "cell_type": "code",
      "metadata": {
        "id": "aHI2nusyKGxE",
        "colab_type": "code",
        "outputId": "f2589e21-c815-4d0c-8756-25181066c5c3",
        "colab": {
          "base_uri": "https://localhost:8080/",
          "height": 419
        }
      },
      "source": [
        "import pandas as pd\n",
        "df=pd.read_csv('titanic_train.csv')\n",
        "df"
      ],
      "execution_count": 0,
      "outputs": [
        {
          "output_type": "execute_result",
          "data": {
            "text/html": [
              "<div>\n",
              "<style scoped>\n",
              "    .dataframe tbody tr th:only-of-type {\n",
              "        vertical-align: middle;\n",
              "    }\n",
              "\n",
              "    .dataframe tbody tr th {\n",
              "        vertical-align: top;\n",
              "    }\n",
              "\n",
              "    .dataframe thead th {\n",
              "        text-align: right;\n",
              "    }\n",
              "</style>\n",
              "<table border=\"1\" class=\"dataframe\">\n",
              "  <thead>\n",
              "    <tr style=\"text-align: right;\">\n",
              "      <th></th>\n",
              "      <th>PassengerId</th>\n",
              "      <th>Survived</th>\n",
              "      <th>Pclass</th>\n",
              "      <th>Name</th>\n",
              "      <th>Sex</th>\n",
              "      <th>Age</th>\n",
              "      <th>SibSp</th>\n",
              "      <th>Parch</th>\n",
              "      <th>Ticket</th>\n",
              "      <th>Fare</th>\n",
              "      <th>Cabin</th>\n",
              "      <th>Embarked</th>\n",
              "    </tr>\n",
              "  </thead>\n",
              "  <tbody>\n",
              "    <tr>\n",
              "      <th>0</th>\n",
              "      <td>1</td>\n",
              "      <td>0</td>\n",
              "      <td>3</td>\n",
              "      <td>Braund, Mr. Owen Harris</td>\n",
              "      <td>male</td>\n",
              "      <td>22.0</td>\n",
              "      <td>1</td>\n",
              "      <td>0</td>\n",
              "      <td>A/5 21171</td>\n",
              "      <td>7.2500</td>\n",
              "      <td>NaN</td>\n",
              "      <td>S</td>\n",
              "    </tr>\n",
              "    <tr>\n",
              "      <th>1</th>\n",
              "      <td>2</td>\n",
              "      <td>1</td>\n",
              "      <td>1</td>\n",
              "      <td>Cumings, Mrs. John Bradley (Florence Briggs Th...</td>\n",
              "      <td>female</td>\n",
              "      <td>38.0</td>\n",
              "      <td>1</td>\n",
              "      <td>0</td>\n",
              "      <td>PC 17599</td>\n",
              "      <td>71.2833</td>\n",
              "      <td>C85</td>\n",
              "      <td>C</td>\n",
              "    </tr>\n",
              "    <tr>\n",
              "      <th>2</th>\n",
              "      <td>3</td>\n",
              "      <td>1</td>\n",
              "      <td>3</td>\n",
              "      <td>Heikkinen, Miss. Laina</td>\n",
              "      <td>female</td>\n",
              "      <td>26.0</td>\n",
              "      <td>0</td>\n",
              "      <td>0</td>\n",
              "      <td>STON/O2. 3101282</td>\n",
              "      <td>7.9250</td>\n",
              "      <td>NaN</td>\n",
              "      <td>S</td>\n",
              "    </tr>\n",
              "    <tr>\n",
              "      <th>3</th>\n",
              "      <td>4</td>\n",
              "      <td>1</td>\n",
              "      <td>1</td>\n",
              "      <td>Futrelle, Mrs. Jacques Heath (Lily May Peel)</td>\n",
              "      <td>female</td>\n",
              "      <td>35.0</td>\n",
              "      <td>1</td>\n",
              "      <td>0</td>\n",
              "      <td>113803</td>\n",
              "      <td>53.1000</td>\n",
              "      <td>C123</td>\n",
              "      <td>S</td>\n",
              "    </tr>\n",
              "    <tr>\n",
              "      <th>4</th>\n",
              "      <td>5</td>\n",
              "      <td>0</td>\n",
              "      <td>3</td>\n",
              "      <td>Allen, Mr. William Henry</td>\n",
              "      <td>male</td>\n",
              "      <td>35.0</td>\n",
              "      <td>0</td>\n",
              "      <td>0</td>\n",
              "      <td>373450</td>\n",
              "      <td>8.0500</td>\n",
              "      <td>NaN</td>\n",
              "      <td>S</td>\n",
              "    </tr>\n",
              "    <tr>\n",
              "      <th>...</th>\n",
              "      <td>...</td>\n",
              "      <td>...</td>\n",
              "      <td>...</td>\n",
              "      <td>...</td>\n",
              "      <td>...</td>\n",
              "      <td>...</td>\n",
              "      <td>...</td>\n",
              "      <td>...</td>\n",
              "      <td>...</td>\n",
              "      <td>...</td>\n",
              "      <td>...</td>\n",
              "      <td>...</td>\n",
              "    </tr>\n",
              "    <tr>\n",
              "      <th>886</th>\n",
              "      <td>887</td>\n",
              "      <td>0</td>\n",
              "      <td>2</td>\n",
              "      <td>Montvila, Rev. Juozas</td>\n",
              "      <td>male</td>\n",
              "      <td>27.0</td>\n",
              "      <td>0</td>\n",
              "      <td>0</td>\n",
              "      <td>211536</td>\n",
              "      <td>13.0000</td>\n",
              "      <td>NaN</td>\n",
              "      <td>S</td>\n",
              "    </tr>\n",
              "    <tr>\n",
              "      <th>887</th>\n",
              "      <td>888</td>\n",
              "      <td>1</td>\n",
              "      <td>1</td>\n",
              "      <td>Graham, Miss. Margaret Edith</td>\n",
              "      <td>female</td>\n",
              "      <td>19.0</td>\n",
              "      <td>0</td>\n",
              "      <td>0</td>\n",
              "      <td>112053</td>\n",
              "      <td>30.0000</td>\n",
              "      <td>B42</td>\n",
              "      <td>S</td>\n",
              "    </tr>\n",
              "    <tr>\n",
              "      <th>888</th>\n",
              "      <td>889</td>\n",
              "      <td>0</td>\n",
              "      <td>3</td>\n",
              "      <td>Johnston, Miss. Catherine Helen \"Carrie\"</td>\n",
              "      <td>female</td>\n",
              "      <td>NaN</td>\n",
              "      <td>1</td>\n",
              "      <td>2</td>\n",
              "      <td>W./C. 6607</td>\n",
              "      <td>23.4500</td>\n",
              "      <td>NaN</td>\n",
              "      <td>S</td>\n",
              "    </tr>\n",
              "    <tr>\n",
              "      <th>889</th>\n",
              "      <td>890</td>\n",
              "      <td>1</td>\n",
              "      <td>1</td>\n",
              "      <td>Behr, Mr. Karl Howell</td>\n",
              "      <td>male</td>\n",
              "      <td>26.0</td>\n",
              "      <td>0</td>\n",
              "      <td>0</td>\n",
              "      <td>111369</td>\n",
              "      <td>30.0000</td>\n",
              "      <td>C148</td>\n",
              "      <td>C</td>\n",
              "    </tr>\n",
              "    <tr>\n",
              "      <th>890</th>\n",
              "      <td>891</td>\n",
              "      <td>0</td>\n",
              "      <td>3</td>\n",
              "      <td>Dooley, Mr. Patrick</td>\n",
              "      <td>male</td>\n",
              "      <td>32.0</td>\n",
              "      <td>0</td>\n",
              "      <td>0</td>\n",
              "      <td>370376</td>\n",
              "      <td>7.7500</td>\n",
              "      <td>NaN</td>\n",
              "      <td>Q</td>\n",
              "    </tr>\n",
              "  </tbody>\n",
              "</table>\n",
              "<p>891 rows × 12 columns</p>\n",
              "</div>"
            ],
            "text/plain": [
              "     PassengerId  Survived  Pclass  ...     Fare Cabin  Embarked\n",
              "0              1         0       3  ...   7.2500   NaN         S\n",
              "1              2         1       1  ...  71.2833   C85         C\n",
              "2              3         1       3  ...   7.9250   NaN         S\n",
              "3              4         1       1  ...  53.1000  C123         S\n",
              "4              5         0       3  ...   8.0500   NaN         S\n",
              "..           ...       ...     ...  ...      ...   ...       ...\n",
              "886          887         0       2  ...  13.0000   NaN         S\n",
              "887          888         1       1  ...  30.0000   B42         S\n",
              "888          889         0       3  ...  23.4500   NaN         S\n",
              "889          890         1       1  ...  30.0000  C148         C\n",
              "890          891         0       3  ...   7.7500   NaN         Q\n",
              "\n",
              "[891 rows x 12 columns]"
            ]
          },
          "metadata": {
            "tags": []
          },
          "execution_count": 5
        }
      ]
    },
    {
      "cell_type": "code",
      "metadata": {
        "id": "_knAe5SrKrvZ",
        "colab_type": "code",
        "outputId": "d11de8ae-dbf8-4bf3-9d81-26daa1de7dd0",
        "colab": {
          "base_uri": "https://localhost:8080/",
          "height": 204
        }
      },
      "source": [
        "df.head()"
      ],
      "execution_count": 0,
      "outputs": [
        {
          "output_type": "execute_result",
          "data": {
            "text/html": [
              "<div>\n",
              "<style scoped>\n",
              "    .dataframe tbody tr th:only-of-type {\n",
              "        vertical-align: middle;\n",
              "    }\n",
              "\n",
              "    .dataframe tbody tr th {\n",
              "        vertical-align: top;\n",
              "    }\n",
              "\n",
              "    .dataframe thead th {\n",
              "        text-align: right;\n",
              "    }\n",
              "</style>\n",
              "<table border=\"1\" class=\"dataframe\">\n",
              "  <thead>\n",
              "    <tr style=\"text-align: right;\">\n",
              "      <th></th>\n",
              "      <th>PassengerId</th>\n",
              "      <th>Survived</th>\n",
              "      <th>Pclass</th>\n",
              "      <th>Name</th>\n",
              "      <th>Sex</th>\n",
              "      <th>Age</th>\n",
              "      <th>SibSp</th>\n",
              "      <th>Parch</th>\n",
              "      <th>Ticket</th>\n",
              "      <th>Fare</th>\n",
              "      <th>Cabin</th>\n",
              "      <th>Embarked</th>\n",
              "    </tr>\n",
              "  </thead>\n",
              "  <tbody>\n",
              "    <tr>\n",
              "      <th>0</th>\n",
              "      <td>1</td>\n",
              "      <td>0</td>\n",
              "      <td>3</td>\n",
              "      <td>Braund, Mr. Owen Harris</td>\n",
              "      <td>male</td>\n",
              "      <td>22.0</td>\n",
              "      <td>1</td>\n",
              "      <td>0</td>\n",
              "      <td>A/5 21171</td>\n",
              "      <td>7.2500</td>\n",
              "      <td>NaN</td>\n",
              "      <td>S</td>\n",
              "    </tr>\n",
              "    <tr>\n",
              "      <th>1</th>\n",
              "      <td>2</td>\n",
              "      <td>1</td>\n",
              "      <td>1</td>\n",
              "      <td>Cumings, Mrs. John Bradley (Florence Briggs Th...</td>\n",
              "      <td>female</td>\n",
              "      <td>38.0</td>\n",
              "      <td>1</td>\n",
              "      <td>0</td>\n",
              "      <td>PC 17599</td>\n",
              "      <td>71.2833</td>\n",
              "      <td>C85</td>\n",
              "      <td>C</td>\n",
              "    </tr>\n",
              "    <tr>\n",
              "      <th>2</th>\n",
              "      <td>3</td>\n",
              "      <td>1</td>\n",
              "      <td>3</td>\n",
              "      <td>Heikkinen, Miss. Laina</td>\n",
              "      <td>female</td>\n",
              "      <td>26.0</td>\n",
              "      <td>0</td>\n",
              "      <td>0</td>\n",
              "      <td>STON/O2. 3101282</td>\n",
              "      <td>7.9250</td>\n",
              "      <td>NaN</td>\n",
              "      <td>S</td>\n",
              "    </tr>\n",
              "    <tr>\n",
              "      <th>3</th>\n",
              "      <td>4</td>\n",
              "      <td>1</td>\n",
              "      <td>1</td>\n",
              "      <td>Futrelle, Mrs. Jacques Heath (Lily May Peel)</td>\n",
              "      <td>female</td>\n",
              "      <td>35.0</td>\n",
              "      <td>1</td>\n",
              "      <td>0</td>\n",
              "      <td>113803</td>\n",
              "      <td>53.1000</td>\n",
              "      <td>C123</td>\n",
              "      <td>S</td>\n",
              "    </tr>\n",
              "    <tr>\n",
              "      <th>4</th>\n",
              "      <td>5</td>\n",
              "      <td>0</td>\n",
              "      <td>3</td>\n",
              "      <td>Allen, Mr. William Henry</td>\n",
              "      <td>male</td>\n",
              "      <td>35.0</td>\n",
              "      <td>0</td>\n",
              "      <td>0</td>\n",
              "      <td>373450</td>\n",
              "      <td>8.0500</td>\n",
              "      <td>NaN</td>\n",
              "      <td>S</td>\n",
              "    </tr>\n",
              "  </tbody>\n",
              "</table>\n",
              "</div>"
            ],
            "text/plain": [
              "   PassengerId  Survived  Pclass  ...     Fare Cabin  Embarked\n",
              "0            1         0       3  ...   7.2500   NaN         S\n",
              "1            2         1       1  ...  71.2833   C85         C\n",
              "2            3         1       3  ...   7.9250   NaN         S\n",
              "3            4         1       1  ...  53.1000  C123         S\n",
              "4            5         0       3  ...   8.0500   NaN         S\n",
              "\n",
              "[5 rows x 12 columns]"
            ]
          },
          "metadata": {
            "tags": []
          },
          "execution_count": 6
        }
      ]
    },
    {
      "cell_type": "code",
      "metadata": {
        "id": "HakSOOVbKzIi",
        "colab_type": "code",
        "outputId": "7a2286cd-6bdf-4593-8109-edc7a7c6b5ea",
        "colab": {
          "base_uri": "https://localhost:8080/",
          "height": 419
        }
      },
      "source": [
        "df.drop('PassengerId',axis=1,inplace=True)\n",
        "df.drop('Ticket',axis=1,inplace=True)\n",
        "df.drop('Cabin',axis=1,inplace=True)\n",
        "df.drop('Name',axis=1,inplace=True)\n",
        "df"
      ],
      "execution_count": 0,
      "outputs": [
        {
          "output_type": "execute_result",
          "data": {
            "text/html": [
              "<div>\n",
              "<style scoped>\n",
              "    .dataframe tbody tr th:only-of-type {\n",
              "        vertical-align: middle;\n",
              "    }\n",
              "\n",
              "    .dataframe tbody tr th {\n",
              "        vertical-align: top;\n",
              "    }\n",
              "\n",
              "    .dataframe thead th {\n",
              "        text-align: right;\n",
              "    }\n",
              "</style>\n",
              "<table border=\"1\" class=\"dataframe\">\n",
              "  <thead>\n",
              "    <tr style=\"text-align: right;\">\n",
              "      <th></th>\n",
              "      <th>Survived</th>\n",
              "      <th>Pclass</th>\n",
              "      <th>Sex</th>\n",
              "      <th>Age</th>\n",
              "      <th>SibSp</th>\n",
              "      <th>Parch</th>\n",
              "      <th>Fare</th>\n",
              "      <th>Embarked</th>\n",
              "    </tr>\n",
              "  </thead>\n",
              "  <tbody>\n",
              "    <tr>\n",
              "      <th>0</th>\n",
              "      <td>0</td>\n",
              "      <td>3</td>\n",
              "      <td>male</td>\n",
              "      <td>22.0</td>\n",
              "      <td>1</td>\n",
              "      <td>0</td>\n",
              "      <td>7.2500</td>\n",
              "      <td>S</td>\n",
              "    </tr>\n",
              "    <tr>\n",
              "      <th>1</th>\n",
              "      <td>1</td>\n",
              "      <td>1</td>\n",
              "      <td>female</td>\n",
              "      <td>38.0</td>\n",
              "      <td>1</td>\n",
              "      <td>0</td>\n",
              "      <td>71.2833</td>\n",
              "      <td>C</td>\n",
              "    </tr>\n",
              "    <tr>\n",
              "      <th>2</th>\n",
              "      <td>1</td>\n",
              "      <td>3</td>\n",
              "      <td>female</td>\n",
              "      <td>26.0</td>\n",
              "      <td>0</td>\n",
              "      <td>0</td>\n",
              "      <td>7.9250</td>\n",
              "      <td>S</td>\n",
              "    </tr>\n",
              "    <tr>\n",
              "      <th>3</th>\n",
              "      <td>1</td>\n",
              "      <td>1</td>\n",
              "      <td>female</td>\n",
              "      <td>35.0</td>\n",
              "      <td>1</td>\n",
              "      <td>0</td>\n",
              "      <td>53.1000</td>\n",
              "      <td>S</td>\n",
              "    </tr>\n",
              "    <tr>\n",
              "      <th>4</th>\n",
              "      <td>0</td>\n",
              "      <td>3</td>\n",
              "      <td>male</td>\n",
              "      <td>35.0</td>\n",
              "      <td>0</td>\n",
              "      <td>0</td>\n",
              "      <td>8.0500</td>\n",
              "      <td>S</td>\n",
              "    </tr>\n",
              "    <tr>\n",
              "      <th>...</th>\n",
              "      <td>...</td>\n",
              "      <td>...</td>\n",
              "      <td>...</td>\n",
              "      <td>...</td>\n",
              "      <td>...</td>\n",
              "      <td>...</td>\n",
              "      <td>...</td>\n",
              "      <td>...</td>\n",
              "    </tr>\n",
              "    <tr>\n",
              "      <th>886</th>\n",
              "      <td>0</td>\n",
              "      <td>2</td>\n",
              "      <td>male</td>\n",
              "      <td>27.0</td>\n",
              "      <td>0</td>\n",
              "      <td>0</td>\n",
              "      <td>13.0000</td>\n",
              "      <td>S</td>\n",
              "    </tr>\n",
              "    <tr>\n",
              "      <th>887</th>\n",
              "      <td>1</td>\n",
              "      <td>1</td>\n",
              "      <td>female</td>\n",
              "      <td>19.0</td>\n",
              "      <td>0</td>\n",
              "      <td>0</td>\n",
              "      <td>30.0000</td>\n",
              "      <td>S</td>\n",
              "    </tr>\n",
              "    <tr>\n",
              "      <th>888</th>\n",
              "      <td>0</td>\n",
              "      <td>3</td>\n",
              "      <td>female</td>\n",
              "      <td>NaN</td>\n",
              "      <td>1</td>\n",
              "      <td>2</td>\n",
              "      <td>23.4500</td>\n",
              "      <td>S</td>\n",
              "    </tr>\n",
              "    <tr>\n",
              "      <th>889</th>\n",
              "      <td>1</td>\n",
              "      <td>1</td>\n",
              "      <td>male</td>\n",
              "      <td>26.0</td>\n",
              "      <td>0</td>\n",
              "      <td>0</td>\n",
              "      <td>30.0000</td>\n",
              "      <td>C</td>\n",
              "    </tr>\n",
              "    <tr>\n",
              "      <th>890</th>\n",
              "      <td>0</td>\n",
              "      <td>3</td>\n",
              "      <td>male</td>\n",
              "      <td>32.0</td>\n",
              "      <td>0</td>\n",
              "      <td>0</td>\n",
              "      <td>7.7500</td>\n",
              "      <td>Q</td>\n",
              "    </tr>\n",
              "  </tbody>\n",
              "</table>\n",
              "<p>891 rows × 8 columns</p>\n",
              "</div>"
            ],
            "text/plain": [
              "     Survived  Pclass     Sex   Age  SibSp  Parch     Fare Embarked\n",
              "0           0       3    male  22.0      1      0   7.2500        S\n",
              "1           1       1  female  38.0      1      0  71.2833        C\n",
              "2           1       3  female  26.0      0      0   7.9250        S\n",
              "3           1       1  female  35.0      1      0  53.1000        S\n",
              "4           0       3    male  35.0      0      0   8.0500        S\n",
              "..        ...     ...     ...   ...    ...    ...      ...      ...\n",
              "886         0       2    male  27.0      0      0  13.0000        S\n",
              "887         1       1  female  19.0      0      0  30.0000        S\n",
              "888         0       3  female   NaN      1      2  23.4500        S\n",
              "889         1       1    male  26.0      0      0  30.0000        C\n",
              "890         0       3    male  32.0      0      0   7.7500        Q\n",
              "\n",
              "[891 rows x 8 columns]"
            ]
          },
          "metadata": {
            "tags": []
          },
          "execution_count": 7
        }
      ]
    },
    {
      "cell_type": "markdown",
      "metadata": {
        "id": "BFbIlZ2JMLkd",
        "colab_type": "text"
      },
      "source": [
        "**STEP2:Preprocessing or filtering of data**"
      ]
    },
    {
      "cell_type": "markdown",
      "metadata": {
        "id": "2fkVY6ulMY-V",
        "colab_type": "text"
      },
      "source": [
        "**Data analysis**"
      ]
    },
    {
      "cell_type": "code",
      "metadata": {
        "id": "ACikh1qHLVzo",
        "colab_type": "code",
        "outputId": "ccc25bdd-055e-48cf-914c-4c3a3c89864f",
        "colab": {
          "base_uri": "https://localhost:8080/",
          "height": 272
        }
      },
      "source": [
        "df.info()"
      ],
      "execution_count": 0,
      "outputs": [
        {
          "output_type": "stream",
          "text": [
            "<class 'pandas.core.frame.DataFrame'>\n",
            "RangeIndex: 891 entries, 0 to 890\n",
            "Data columns (total 8 columns):\n",
            " #   Column    Non-Null Count  Dtype  \n",
            "---  ------    --------------  -----  \n",
            " 0   Survived  891 non-null    int64  \n",
            " 1   Pclass    891 non-null    int64  \n",
            " 2   Sex       891 non-null    object \n",
            " 3   Age       714 non-null    float64\n",
            " 4   SibSp     891 non-null    int64  \n",
            " 5   Parch     891 non-null    int64  \n",
            " 6   Fare      891 non-null    float64\n",
            " 7   Embarked  889 non-null    object \n",
            "dtypes: float64(2), int64(4), object(2)\n",
            "memory usage: 55.8+ KB\n"
          ],
          "name": "stdout"
        }
      ]
    },
    {
      "cell_type": "code",
      "metadata": {
        "id": "fBBZTqy7MeY-",
        "colab_type": "code",
        "outputId": "9de1bd59-9ca1-4a1c-d586-a86d624033dc",
        "colab": {
          "base_uri": "https://localhost:8080/",
          "height": 102
        }
      },
      "source": [
        "df.groupby('Embarked').size()"
      ],
      "execution_count": 0,
      "outputs": [
        {
          "output_type": "execute_result",
          "data": {
            "text/plain": [
              "Embarked\n",
              "C    168\n",
              "Q     77\n",
              "S    644\n",
              "dtype: int64"
            ]
          },
          "metadata": {
            "tags": []
          },
          "execution_count": 9
        }
      ]
    },
    {
      "cell_type": "code",
      "metadata": {
        "id": "nccAY7r0Mnyl",
        "colab_type": "code",
        "outputId": "d5c10de4-32b0-40d8-ef03-9bceb54d21f0",
        "colab": {
          "base_uri": "https://localhost:8080/",
          "height": 34
        }
      },
      "source": [
        "df.shape"
      ],
      "execution_count": 0,
      "outputs": [
        {
          "output_type": "execute_result",
          "data": {
            "text/plain": [
              "(891, 8)"
            ]
          },
          "metadata": {
            "tags": []
          },
          "execution_count": 10
        }
      ]
    },
    {
      "cell_type": "code",
      "metadata": {
        "id": "oV5WQiZoMqnd",
        "colab_type": "code",
        "outputId": "3b668bd0-a253-4524-fe6d-0a3b90bb154a",
        "colab": {
          "base_uri": "https://localhost:8080/",
          "height": 297
        }
      },
      "source": [
        "df.describe()"
      ],
      "execution_count": 0,
      "outputs": [
        {
          "output_type": "execute_result",
          "data": {
            "text/html": [
              "<div>\n",
              "<style scoped>\n",
              "    .dataframe tbody tr th:only-of-type {\n",
              "        vertical-align: middle;\n",
              "    }\n",
              "\n",
              "    .dataframe tbody tr th {\n",
              "        vertical-align: top;\n",
              "    }\n",
              "\n",
              "    .dataframe thead th {\n",
              "        text-align: right;\n",
              "    }\n",
              "</style>\n",
              "<table border=\"1\" class=\"dataframe\">\n",
              "  <thead>\n",
              "    <tr style=\"text-align: right;\">\n",
              "      <th></th>\n",
              "      <th>Survived</th>\n",
              "      <th>Pclass</th>\n",
              "      <th>Age</th>\n",
              "      <th>SibSp</th>\n",
              "      <th>Parch</th>\n",
              "      <th>Fare</th>\n",
              "    </tr>\n",
              "  </thead>\n",
              "  <tbody>\n",
              "    <tr>\n",
              "      <th>count</th>\n",
              "      <td>891.000000</td>\n",
              "      <td>891.000000</td>\n",
              "      <td>714.000000</td>\n",
              "      <td>891.000000</td>\n",
              "      <td>891.000000</td>\n",
              "      <td>891.000000</td>\n",
              "    </tr>\n",
              "    <tr>\n",
              "      <th>mean</th>\n",
              "      <td>0.383838</td>\n",
              "      <td>2.308642</td>\n",
              "      <td>29.699118</td>\n",
              "      <td>0.523008</td>\n",
              "      <td>0.381594</td>\n",
              "      <td>32.204208</td>\n",
              "    </tr>\n",
              "    <tr>\n",
              "      <th>std</th>\n",
              "      <td>0.486592</td>\n",
              "      <td>0.836071</td>\n",
              "      <td>14.526497</td>\n",
              "      <td>1.102743</td>\n",
              "      <td>0.806057</td>\n",
              "      <td>49.693429</td>\n",
              "    </tr>\n",
              "    <tr>\n",
              "      <th>min</th>\n",
              "      <td>0.000000</td>\n",
              "      <td>1.000000</td>\n",
              "      <td>0.420000</td>\n",
              "      <td>0.000000</td>\n",
              "      <td>0.000000</td>\n",
              "      <td>0.000000</td>\n",
              "    </tr>\n",
              "    <tr>\n",
              "      <th>25%</th>\n",
              "      <td>0.000000</td>\n",
              "      <td>2.000000</td>\n",
              "      <td>20.125000</td>\n",
              "      <td>0.000000</td>\n",
              "      <td>0.000000</td>\n",
              "      <td>7.910400</td>\n",
              "    </tr>\n",
              "    <tr>\n",
              "      <th>50%</th>\n",
              "      <td>0.000000</td>\n",
              "      <td>3.000000</td>\n",
              "      <td>28.000000</td>\n",
              "      <td>0.000000</td>\n",
              "      <td>0.000000</td>\n",
              "      <td>14.454200</td>\n",
              "    </tr>\n",
              "    <tr>\n",
              "      <th>75%</th>\n",
              "      <td>1.000000</td>\n",
              "      <td>3.000000</td>\n",
              "      <td>38.000000</td>\n",
              "      <td>1.000000</td>\n",
              "      <td>0.000000</td>\n",
              "      <td>31.000000</td>\n",
              "    </tr>\n",
              "    <tr>\n",
              "      <th>max</th>\n",
              "      <td>1.000000</td>\n",
              "      <td>3.000000</td>\n",
              "      <td>80.000000</td>\n",
              "      <td>8.000000</td>\n",
              "      <td>6.000000</td>\n",
              "      <td>512.329200</td>\n",
              "    </tr>\n",
              "  </tbody>\n",
              "</table>\n",
              "</div>"
            ],
            "text/plain": [
              "         Survived      Pclass         Age       SibSp       Parch        Fare\n",
              "count  891.000000  891.000000  714.000000  891.000000  891.000000  891.000000\n",
              "mean     0.383838    2.308642   29.699118    0.523008    0.381594   32.204208\n",
              "std      0.486592    0.836071   14.526497    1.102743    0.806057   49.693429\n",
              "min      0.000000    1.000000    0.420000    0.000000    0.000000    0.000000\n",
              "25%      0.000000    2.000000   20.125000    0.000000    0.000000    7.910400\n",
              "50%      0.000000    3.000000   28.000000    0.000000    0.000000   14.454200\n",
              "75%      1.000000    3.000000   38.000000    1.000000    0.000000   31.000000\n",
              "max      1.000000    3.000000   80.000000    8.000000    6.000000  512.329200"
            ]
          },
          "metadata": {
            "tags": []
          },
          "execution_count": 11
        }
      ]
    },
    {
      "cell_type": "code",
      "metadata": {
        "id": "9whx0rMtMuCa",
        "colab_type": "code",
        "outputId": "ce24b113-3c15-4e80-a6c5-9e847b837b7a",
        "colab": {
          "base_uri": "https://localhost:8080/",
          "height": 68
        }
      },
      "source": [
        "df.columns"
      ],
      "execution_count": 0,
      "outputs": [
        {
          "output_type": "execute_result",
          "data": {
            "text/plain": [
              "Index(['Survived', 'Pclass', 'Sex', 'Age', 'SibSp', 'Parch', 'Fare',\n",
              "       'Embarked'],\n",
              "      dtype='object')"
            ]
          },
          "metadata": {
            "tags": []
          },
          "execution_count": 12
        }
      ]
    },
    {
      "cell_type": "code",
      "metadata": {
        "id": "YV1zfOBhM2xQ",
        "colab_type": "code",
        "outputId": "9a8aad62-7450-4d0d-9d8e-cb29aeb91f3e",
        "colab": {
          "base_uri": "https://localhost:8080/",
          "height": 359
        }
      },
      "source": [
        "df.tail(10)"
      ],
      "execution_count": 0,
      "outputs": [
        {
          "output_type": "execute_result",
          "data": {
            "text/html": [
              "<div>\n",
              "<style scoped>\n",
              "    .dataframe tbody tr th:only-of-type {\n",
              "        vertical-align: middle;\n",
              "    }\n",
              "\n",
              "    .dataframe tbody tr th {\n",
              "        vertical-align: top;\n",
              "    }\n",
              "\n",
              "    .dataframe thead th {\n",
              "        text-align: right;\n",
              "    }\n",
              "</style>\n",
              "<table border=\"1\" class=\"dataframe\">\n",
              "  <thead>\n",
              "    <tr style=\"text-align: right;\">\n",
              "      <th></th>\n",
              "      <th>Survived</th>\n",
              "      <th>Pclass</th>\n",
              "      <th>Sex</th>\n",
              "      <th>Age</th>\n",
              "      <th>SibSp</th>\n",
              "      <th>Parch</th>\n",
              "      <th>Fare</th>\n",
              "      <th>Embarked</th>\n",
              "    </tr>\n",
              "  </thead>\n",
              "  <tbody>\n",
              "    <tr>\n",
              "      <th>881</th>\n",
              "      <td>0</td>\n",
              "      <td>3</td>\n",
              "      <td>male</td>\n",
              "      <td>33.0</td>\n",
              "      <td>0</td>\n",
              "      <td>0</td>\n",
              "      <td>7.8958</td>\n",
              "      <td>S</td>\n",
              "    </tr>\n",
              "    <tr>\n",
              "      <th>882</th>\n",
              "      <td>0</td>\n",
              "      <td>3</td>\n",
              "      <td>female</td>\n",
              "      <td>22.0</td>\n",
              "      <td>0</td>\n",
              "      <td>0</td>\n",
              "      <td>10.5167</td>\n",
              "      <td>S</td>\n",
              "    </tr>\n",
              "    <tr>\n",
              "      <th>883</th>\n",
              "      <td>0</td>\n",
              "      <td>2</td>\n",
              "      <td>male</td>\n",
              "      <td>28.0</td>\n",
              "      <td>0</td>\n",
              "      <td>0</td>\n",
              "      <td>10.5000</td>\n",
              "      <td>S</td>\n",
              "    </tr>\n",
              "    <tr>\n",
              "      <th>884</th>\n",
              "      <td>0</td>\n",
              "      <td>3</td>\n",
              "      <td>male</td>\n",
              "      <td>25.0</td>\n",
              "      <td>0</td>\n",
              "      <td>0</td>\n",
              "      <td>7.0500</td>\n",
              "      <td>S</td>\n",
              "    </tr>\n",
              "    <tr>\n",
              "      <th>885</th>\n",
              "      <td>0</td>\n",
              "      <td>3</td>\n",
              "      <td>female</td>\n",
              "      <td>39.0</td>\n",
              "      <td>0</td>\n",
              "      <td>5</td>\n",
              "      <td>29.1250</td>\n",
              "      <td>Q</td>\n",
              "    </tr>\n",
              "    <tr>\n",
              "      <th>886</th>\n",
              "      <td>0</td>\n",
              "      <td>2</td>\n",
              "      <td>male</td>\n",
              "      <td>27.0</td>\n",
              "      <td>0</td>\n",
              "      <td>0</td>\n",
              "      <td>13.0000</td>\n",
              "      <td>S</td>\n",
              "    </tr>\n",
              "    <tr>\n",
              "      <th>887</th>\n",
              "      <td>1</td>\n",
              "      <td>1</td>\n",
              "      <td>female</td>\n",
              "      <td>19.0</td>\n",
              "      <td>0</td>\n",
              "      <td>0</td>\n",
              "      <td>30.0000</td>\n",
              "      <td>S</td>\n",
              "    </tr>\n",
              "    <tr>\n",
              "      <th>888</th>\n",
              "      <td>0</td>\n",
              "      <td>3</td>\n",
              "      <td>female</td>\n",
              "      <td>NaN</td>\n",
              "      <td>1</td>\n",
              "      <td>2</td>\n",
              "      <td>23.4500</td>\n",
              "      <td>S</td>\n",
              "    </tr>\n",
              "    <tr>\n",
              "      <th>889</th>\n",
              "      <td>1</td>\n",
              "      <td>1</td>\n",
              "      <td>male</td>\n",
              "      <td>26.0</td>\n",
              "      <td>0</td>\n",
              "      <td>0</td>\n",
              "      <td>30.0000</td>\n",
              "      <td>C</td>\n",
              "    </tr>\n",
              "    <tr>\n",
              "      <th>890</th>\n",
              "      <td>0</td>\n",
              "      <td>3</td>\n",
              "      <td>male</td>\n",
              "      <td>32.0</td>\n",
              "      <td>0</td>\n",
              "      <td>0</td>\n",
              "      <td>7.7500</td>\n",
              "      <td>Q</td>\n",
              "    </tr>\n",
              "  </tbody>\n",
              "</table>\n",
              "</div>"
            ],
            "text/plain": [
              "     Survived  Pclass     Sex   Age  SibSp  Parch     Fare Embarked\n",
              "881         0       3    male  33.0      0      0   7.8958        S\n",
              "882         0       3  female  22.0      0      0  10.5167        S\n",
              "883         0       2    male  28.0      0      0  10.5000        S\n",
              "884         0       3    male  25.0      0      0   7.0500        S\n",
              "885         0       3  female  39.0      0      5  29.1250        Q\n",
              "886         0       2    male  27.0      0      0  13.0000        S\n",
              "887         1       1  female  19.0      0      0  30.0000        S\n",
              "888         0       3  female   NaN      1      2  23.4500        S\n",
              "889         1       1    male  26.0      0      0  30.0000        C\n",
              "890         0       3    male  32.0      0      0   7.7500        Q"
            ]
          },
          "metadata": {
            "tags": []
          },
          "execution_count": 13
        }
      ]
    },
    {
      "cell_type": "code",
      "metadata": {
        "id": "tjubT4I6M6hp",
        "colab_type": "code",
        "outputId": "27a0e4c6-b70e-4fa2-939e-1a84a8e947e7",
        "colab": {
          "base_uri": "https://localhost:8080/",
          "height": 1000
        }
      },
      "source": [
        "Gender=df['Sex'].values\n",
        "Gender"
      ],
      "execution_count": 0,
      "outputs": [
        {
          "output_type": "execute_result",
          "data": {
            "text/plain": [
              "array(['male', 'female', 'female', 'female', 'male', 'male', 'male',\n",
              "       'male', 'female', 'female', 'female', 'female', 'male', 'male',\n",
              "       'female', 'female', 'male', 'male', 'female', 'female', 'male',\n",
              "       'male', 'female', 'male', 'female', 'female', 'male', 'male',\n",
              "       'female', 'male', 'male', 'female', 'female', 'male', 'male',\n",
              "       'male', 'male', 'male', 'female', 'female', 'female', 'female',\n",
              "       'male', 'female', 'female', 'male', 'male', 'female', 'male',\n",
              "       'female', 'male', 'male', 'female', 'female', 'male', 'male',\n",
              "       'female', 'male', 'female', 'male', 'male', 'female', 'male',\n",
              "       'male', 'male', 'male', 'female', 'male', 'female', 'male', 'male',\n",
              "       'female', 'male', 'male', 'male', 'male', 'male', 'male', 'male',\n",
              "       'female', 'male', 'male', 'female', 'male', 'female', 'female',\n",
              "       'male', 'male', 'female', 'male', 'male', 'male', 'male', 'male',\n",
              "       'male', 'male', 'male', 'male', 'female', 'male', 'female', 'male',\n",
              "       'male', 'male', 'male', 'male', 'female', 'male', 'male', 'female',\n",
              "       'male', 'female', 'male', 'female', 'female', 'male', 'male',\n",
              "       'male', 'male', 'female', 'male', 'male', 'male', 'female', 'male',\n",
              "       'male', 'male', 'male', 'female', 'male', 'male', 'male', 'female',\n",
              "       'female', 'male', 'male', 'female', 'male', 'male', 'male',\n",
              "       'female', 'female', 'female', 'male', 'male', 'male', 'male',\n",
              "       'female', 'male', 'male', 'male', 'female', 'male', 'male', 'male',\n",
              "       'male', 'female', 'male', 'male', 'male', 'male', 'female', 'male',\n",
              "       'male', 'male', 'male', 'female', 'female', 'male', 'male', 'male',\n",
              "       'male', 'female', 'male', 'male', 'male', 'male', 'female', 'male',\n",
              "       'male', 'female', 'male', 'male', 'male', 'female', 'male',\n",
              "       'female', 'male', 'male', 'male', 'female', 'male', 'female',\n",
              "       'male', 'female', 'female', 'male', 'male', 'female', 'female',\n",
              "       'male', 'male', 'male', 'male', 'male', 'female', 'male', 'male',\n",
              "       'female', 'male', 'male', 'female', 'male', 'male', 'male',\n",
              "       'female', 'female', 'male', 'female', 'male', 'male', 'male',\n",
              "       'male', 'male', 'male', 'male', 'male', 'male', 'male', 'female',\n",
              "       'female', 'male', 'male', 'female', 'male', 'female', 'male',\n",
              "       'female', 'male', 'male', 'female', 'female', 'male', 'male',\n",
              "       'male', 'male', 'female', 'female', 'male', 'male', 'male',\n",
              "       'female', 'male', 'male', 'female', 'female', 'female', 'female',\n",
              "       'female', 'female', 'male', 'male', 'male', 'male', 'female',\n",
              "       'male', 'male', 'male', 'female', 'female', 'male', 'male',\n",
              "       'female', 'male', 'female', 'female', 'female', 'male', 'male',\n",
              "       'female', 'male', 'male', 'male', 'male', 'male', 'male', 'male',\n",
              "       'male', 'male', 'female', 'female', 'female', 'male', 'female',\n",
              "       'male', 'male', 'male', 'female', 'male', 'female', 'female',\n",
              "       'male', 'male', 'female', 'male', 'male', 'female', 'female',\n",
              "       'male', 'female', 'female', 'female', 'female', 'male', 'male',\n",
              "       'female', 'female', 'male', 'female', 'female', 'male', 'male',\n",
              "       'female', 'female', 'male', 'female', 'male', 'female', 'female',\n",
              "       'female', 'female', 'male', 'male', 'male', 'female', 'male',\n",
              "       'male', 'female', 'male', 'male', 'male', 'female', 'male', 'male',\n",
              "       'male', 'female', 'female', 'female', 'male', 'male', 'male',\n",
              "       'male', 'male', 'male', 'male', 'male', 'female', 'female',\n",
              "       'female', 'female', 'male', 'male', 'female', 'male', 'male',\n",
              "       'male', 'female', 'female', 'female', 'female', 'male', 'male',\n",
              "       'male', 'male', 'female', 'female', 'female', 'male', 'male',\n",
              "       'male', 'female', 'female', 'male', 'female', 'male', 'male',\n",
              "       'male', 'female', 'male', 'female', 'male', 'male', 'male',\n",
              "       'female', 'female', 'male', 'female', 'male', 'male', 'female',\n",
              "       'male', 'male', 'female', 'male', 'female', 'male', 'male', 'male',\n",
              "       'male', 'female', 'male', 'male', 'female', 'male', 'male',\n",
              "       'female', 'female', 'female', 'male', 'female', 'male', 'male',\n",
              "       'male', 'female', 'male', 'male', 'female', 'female', 'male',\n",
              "       'male', 'male', 'female', 'female', 'male', 'male', 'female',\n",
              "       'female', 'female', 'male', 'male', 'female', 'male', 'male',\n",
              "       'female', 'male', 'male', 'female', 'male', 'female', 'male',\n",
              "       'male', 'male', 'male', 'male', 'male', 'male', 'male', 'female',\n",
              "       'female', 'male', 'male', 'male', 'male', 'male', 'male', 'male',\n",
              "       'male', 'male', 'male', 'female', 'male', 'male', 'female',\n",
              "       'female', 'female', 'male', 'male', 'male', 'male', 'female',\n",
              "       'male', 'male', 'male', 'female', 'male', 'female', 'female',\n",
              "       'male', 'male', 'male', 'male', 'male', 'male', 'male', 'male',\n",
              "       'male', 'female', 'male', 'female', 'male', 'male', 'female',\n",
              "       'female', 'female', 'female', 'male', 'female', 'male', 'male',\n",
              "       'male', 'male', 'male', 'male', 'female', 'male', 'male', 'female',\n",
              "       'male', 'female', 'male', 'female', 'male', 'male', 'female',\n",
              "       'male', 'male', 'female', 'male', 'male', 'male', 'female', 'male',\n",
              "       'male', 'female', 'female', 'female', 'male', 'female', 'male',\n",
              "       'female', 'female', 'female', 'female', 'male', 'male', 'male',\n",
              "       'female', 'male', 'male', 'male', 'male', 'male', 'male', 'male',\n",
              "       'female', 'male', 'female', 'male', 'female', 'female', 'male',\n",
              "       'male', 'male', 'male', 'female', 'male', 'male', 'female', 'male',\n",
              "       'male', 'male', 'female', 'male', 'female', 'male', 'male',\n",
              "       'female', 'female', 'female', 'male', 'female', 'female', 'male',\n",
              "       'male', 'male', 'female', 'male', 'male', 'male', 'male', 'male',\n",
              "       'female', 'male', 'female', 'male', 'male', 'female', 'male',\n",
              "       'male', 'male', 'female', 'male', 'male', 'male', 'male', 'male',\n",
              "       'male', 'male', 'female', 'female', 'female', 'male', 'female',\n",
              "       'male', 'male', 'female', 'male', 'female', 'female', 'male',\n",
              "       'male', 'male', 'male', 'male', 'male', 'male', 'male', 'female',\n",
              "       'male', 'male', 'male', 'male', 'male', 'male', 'female', 'female',\n",
              "       'male', 'male', 'female', 'male', 'male', 'female', 'female',\n",
              "       'male', 'female', 'male', 'male', 'male', 'male', 'female', 'male',\n",
              "       'female', 'male', 'female', 'female', 'male', 'male', 'female',\n",
              "       'male', 'male', 'male', 'male', 'male', 'male', 'male', 'male',\n",
              "       'male', 'male', 'male', 'female', 'female', 'male', 'male', 'male',\n",
              "       'male', 'male', 'male', 'female', 'female', 'male', 'female',\n",
              "       'male', 'male', 'male', 'male', 'male', 'male', 'male', 'male',\n",
              "       'female', 'male', 'female', 'male', 'male', 'male', 'male', 'male',\n",
              "       'female', 'male', 'male', 'female', 'male', 'female', 'male',\n",
              "       'male', 'male', 'female', 'male', 'female', 'male', 'female',\n",
              "       'male', 'male', 'male', 'male', 'male', 'female', 'female', 'male',\n",
              "       'male', 'female', 'male', 'male', 'male', 'male', 'male', 'female',\n",
              "       'female', 'male', 'female', 'female', 'male', 'male', 'male',\n",
              "       'male', 'male', 'female', 'male', 'male', 'male', 'male', 'male',\n",
              "       'female', 'male', 'male', 'male', 'male', 'female', 'male', 'male',\n",
              "       'female', 'male', 'male', 'male', 'female', 'male', 'male', 'male',\n",
              "       'male', 'female', 'male', 'male', 'male', 'female', 'male',\n",
              "       'female', 'male', 'female', 'male', 'male', 'male', 'male',\n",
              "       'female', 'male', 'female', 'male', 'male', 'female', 'male',\n",
              "       'female', 'female', 'female', 'male', 'male', 'male', 'male',\n",
              "       'female', 'male', 'male', 'male', 'male', 'male', 'female', 'male',\n",
              "       'male', 'male', 'female', 'female', 'male', 'female', 'male',\n",
              "       'female', 'male', 'male', 'male', 'male', 'male', 'female', 'male',\n",
              "       'female', 'male', 'male', 'male', 'female', 'male', 'male',\n",
              "       'female', 'male', 'male', 'male', 'female', 'male', 'male',\n",
              "       'female', 'male', 'male', 'male', 'male', 'male', 'female',\n",
              "       'female', 'male', 'male', 'male', 'male', 'female', 'male', 'male',\n",
              "       'male', 'male', 'male', 'male', 'female', 'male', 'male', 'male',\n",
              "       'male', 'male', 'male', 'female', 'male', 'male', 'female',\n",
              "       'female', 'female', 'female', 'female', 'male', 'female', 'male',\n",
              "       'male', 'male', 'female', 'female', 'male', 'female', 'female',\n",
              "       'male', 'male', 'male', 'male', 'female', 'male', 'male', 'female',\n",
              "       'female', 'male', 'male', 'male', 'female', 'female', 'male',\n",
              "       'female', 'male', 'male', 'female', 'male', 'female', 'female',\n",
              "       'male', 'male'], dtype=object)"
            ]
          },
          "metadata": {
            "tags": []
          },
          "execution_count": 14
        }
      ]
    },
    {
      "cell_type": "code",
      "metadata": {
        "id": "yGrLy9P9NA0p",
        "colab_type": "code",
        "outputId": "c2e68773-9b1d-4905-e4ab-307729e80499",
        "colab": {
          "base_uri": "https://localhost:8080/",
          "height": 51
        }
      },
      "source": [
        "import numpy as np\n",
        "fname,fcount=np.unique(Gender,return_counts=True)\n",
        "print(f'{fname[0]}:{fcount[0]}')\n",
        "print(f'{fname[1]}:{fcount[1]}')"
      ],
      "execution_count": 0,
      "outputs": [
        {
          "output_type": "stream",
          "text": [
            "female:314\n",
            "male:577\n"
          ],
          "name": "stdout"
        }
      ]
    },
    {
      "cell_type": "code",
      "metadata": {
        "id": "x4WB0JkTNECu",
        "colab_type": "code",
        "outputId": "9de1fcfa-dd33-4016-bec2-f05e994d419e",
        "colab": {
          "base_uri": "https://localhost:8080/",
          "height": 221
        }
      },
      "source": [
        "Sur=df['Survived']\n",
        "Sur"
      ],
      "execution_count": 0,
      "outputs": [
        {
          "output_type": "execute_result",
          "data": {
            "text/plain": [
              "0      0\n",
              "1      1\n",
              "2      1\n",
              "3      1\n",
              "4      0\n",
              "      ..\n",
              "886    0\n",
              "887    1\n",
              "888    0\n",
              "889    1\n",
              "890    0\n",
              "Name: Survived, Length: 891, dtype: int64"
            ]
          },
          "metadata": {
            "tags": []
          },
          "execution_count": 16
        }
      ]
    },
    {
      "cell_type": "code",
      "metadata": {
        "id": "OAAfyhIHNLi2",
        "colab_type": "code",
        "outputId": "8e01420a-0990-4b42-f493-35e717146d4f",
        "colab": {
          "base_uri": "https://localhost:8080/",
          "height": 51
        }
      },
      "source": [
        "import numpy as np\n",
        "fval,fnum=np.unique(Sur,return_counts=True)\n",
        "print(f'{fval[0]}:{fnum[0]}')\n",
        "print(f'{fval[1]}:{fnum[1]}')"
      ],
      "execution_count": 0,
      "outputs": [
        {
          "output_type": "stream",
          "text": [
            "0:549\n",
            "1:342\n"
          ],
          "name": "stdout"
        }
      ]
    },
    {
      "cell_type": "markdown",
      "metadata": {
        "id": "vQsuq9rRNZOJ",
        "colab_type": "text"
      },
      "source": [
        "**Filing the missing values of age**"
      ]
    },
    {
      "cell_type": "code",
      "metadata": {
        "id": "-6ujWBk-NbQS",
        "colab_type": "code",
        "colab": {}
      },
      "source": [
        "df['Age'].fillna(df['Age'].mean(), inplace=True)"
      ],
      "execution_count": 0,
      "outputs": []
    },
    {
      "cell_type": "code",
      "metadata": {
        "id": "WKWE04i0Nfrk",
        "colab_type": "code",
        "colab": {}
      },
      "source": [
        "df['Embarked'].fillna('S',inplace=True)"
      ],
      "execution_count": 0,
      "outputs": []
    },
    {
      "cell_type": "markdown",
      "metadata": {
        "id": "rs56dz8NNsv5",
        "colab_type": "text"
      },
      "source": [
        "**Checking for the missing values**"
      ]
    },
    {
      "cell_type": "code",
      "metadata": {
        "id": "xQsQPKbmNovG",
        "colab_type": "code",
        "outputId": "0496aa02-6cd2-4f4b-8611-a9647b2a0845",
        "colab": {
          "base_uri": "https://localhost:8080/",
          "height": 170
        }
      },
      "source": [
        "df.isnull().sum()"
      ],
      "execution_count": 0,
      "outputs": [
        {
          "output_type": "execute_result",
          "data": {
            "text/plain": [
              "Survived    0\n",
              "Pclass      0\n",
              "Sex         0\n",
              "Age         0\n",
              "SibSp       0\n",
              "Parch       0\n",
              "Fare        0\n",
              "Embarked    0\n",
              "dtype: int64"
            ]
          },
          "metadata": {
            "tags": []
          },
          "execution_count": 21
        }
      ]
    },
    {
      "cell_type": "markdown",
      "metadata": {
        "id": "HveDL3D9N8SA",
        "colab_type": "text"
      },
      "source": [
        "**STEP3:Data Visualization**"
      ]
    },
    {
      "cell_type": "code",
      "metadata": {
        "id": "4q3NdoCvOBaR",
        "colab_type": "code",
        "outputId": "dff0e419-58ff-4d5b-eb4e-5730bb21de15",
        "colab": {
          "base_uri": "https://localhost:8080/",
          "height": 295
        }
      },
      "source": [
        "import matplotlib.pyplot as plt\n",
        "plt.bar(fval,fnum,color=['#069ea1','#a1063c'])\n",
        "plt.xlabel('Survived')\n",
        "plt.ylabel('Female/male count')\n",
        "plt.title('survived counts')\n",
        "plt.show()"
      ],
      "execution_count": 0,
      "outputs": [
        {
          "output_type": "display_data",
          "data": {
            "image/png": "[encoded data removed]",
            "text/plain": [
              "<Figure size 432x288 with 1 Axes>"
            ]
          },
          "metadata": {
            "tags": [],
            "needs_background": "light"
          }
        }
      ]
    },
    {
      "cell_type": "code",
      "metadata": {
        "id": "OfTTD1UJOBxo",
        "colab_type": "code",
        "outputId": "337834ec-28f3-4ac2-9cfe-560ab9d476f0",
        "colab": {
          "base_uri": "https://localhost:8080/",
          "height": 357
        }
      },
      "source": [
        "import numpy as np\n",
        "svar,unic = np.unique(df['Age'],return_counts=True)\n",
        "print(svar)\n",
        "print(unic)"
      ],
      "execution_count": 0,
      "outputs": [
        {
          "output_type": "stream",
          "text": [
            "[ 0.42        0.67        0.75        0.83        0.92        1.\n",
            "  2.          3.          4.          5.          6.          7.\n",
            "  8.          9.         10.         11.         12.         13.\n",
            " 14.         14.5        15.         16.         17.         18.\n",
            " 19.         20.         20.5        21.         22.         23.\n",
            " 23.5        24.         24.5        25.         26.         27.\n",
            " 28.         28.5        29.         29.69911765 30.         30.5\n",
            " 31.         32.         32.5        33.         34.         34.5\n",
            " 35.         36.         36.5        37.         38.         39.\n",
            " 40.         40.5        41.         42.         43.         44.\n",
            " 45.         45.5        46.         47.         48.         49.\n",
            " 50.         51.         52.         53.         54.         55.\n",
            " 55.5        56.         57.         58.         59.         60.\n",
            " 61.         62.         63.         64.         65.         66.\n",
            " 70.         70.5        71.         74.         80.        ]\n",
            "[  1   1   2   2   1   7  10   6  10   4   3   3   4   8   2   4   1   2\n",
            "   6   1   5  17  13  26  25  15   1  24  27  15   1  30   1  23  18  18\n",
            "  25   2  20 177  25   2  17  18   2  15  15   1  18  22   1   6  11  14\n",
            "  13   2   6  13   5   9  12   2   3   9   9   6  10   7   6   1   8   2\n",
            "   1   4   2   5   2   4   3   4   2   2   3   1   2   1   2   1   1]\n"
          ],
          "name": "stdout"
        }
      ]
    },
    {
      "cell_type": "code",
      "metadata": {
        "id": "D1gCuvemORM_",
        "colab_type": "code",
        "outputId": "5b76127f-1827-4bc6-f444-f0e2f9e59c4f",
        "colab": {
          "base_uri": "https://localhost:8080/",
          "height": 450
        }
      },
      "source": [
        "cg=df.groupby('Age').mean()\n",
        "cg"
      ],
      "execution_count": 0,
      "outputs": [
        {
          "output_type": "execute_result",
          "data": {
            "text/html": [
              "<div>\n",
              "<style scoped>\n",
              "    .dataframe tbody tr th:only-of-type {\n",
              "        vertical-align: middle;\n",
              "    }\n",
              "\n",
              "    .dataframe tbody tr th {\n",
              "        vertical-align: top;\n",
              "    }\n",
              "\n",
              "    .dataframe thead th {\n",
              "        text-align: right;\n",
              "    }\n",
              "</style>\n",
              "<table border=\"1\" class=\"dataframe\">\n",
              "  <thead>\n",
              "    <tr style=\"text-align: right;\">\n",
              "      <th></th>\n",
              "      <th>Survived</th>\n",
              "      <th>Pclass</th>\n",
              "      <th>SibSp</th>\n",
              "      <th>Parch</th>\n",
              "      <th>Fare</th>\n",
              "    </tr>\n",
              "    <tr>\n",
              "      <th>Age</th>\n",
              "      <th></th>\n",
              "      <th></th>\n",
              "      <th></th>\n",
              "      <th></th>\n",
              "      <th></th>\n",
              "    </tr>\n",
              "  </thead>\n",
              "  <tbody>\n",
              "    <tr>\n",
              "      <th>0.42</th>\n",
              "      <td>1.0</td>\n",
              "      <td>3.0</td>\n",
              "      <td>0.0</td>\n",
              "      <td>1.0</td>\n",
              "      <td>8.5167</td>\n",
              "    </tr>\n",
              "    <tr>\n",
              "      <th>0.67</th>\n",
              "      <td>1.0</td>\n",
              "      <td>2.0</td>\n",
              "      <td>1.0</td>\n",
              "      <td>1.0</td>\n",
              "      <td>14.5000</td>\n",
              "    </tr>\n",
              "    <tr>\n",
              "      <th>0.75</th>\n",
              "      <td>1.0</td>\n",
              "      <td>3.0</td>\n",
              "      <td>2.0</td>\n",
              "      <td>1.0</td>\n",
              "      <td>19.2583</td>\n",
              "    </tr>\n",
              "    <tr>\n",
              "      <th>0.83</th>\n",
              "      <td>1.0</td>\n",
              "      <td>2.0</td>\n",
              "      <td>0.5</td>\n",
              "      <td>1.5</td>\n",
              "      <td>23.8750</td>\n",
              "    </tr>\n",
              "    <tr>\n",
              "      <th>0.92</th>\n",
              "      <td>1.0</td>\n",
              "      <td>1.0</td>\n",
              "      <td>1.0</td>\n",
              "      <td>2.0</td>\n",
              "      <td>151.5500</td>\n",
              "    </tr>\n",
              "    <tr>\n",
              "      <th>...</th>\n",
              "      <td>...</td>\n",
              "      <td>...</td>\n",
              "      <td>...</td>\n",
              "      <td>...</td>\n",
              "      <td>...</td>\n",
              "    </tr>\n",
              "    <tr>\n",
              "      <th>70.00</th>\n",
              "      <td>0.0</td>\n",
              "      <td>1.5</td>\n",
              "      <td>0.5</td>\n",
              "      <td>0.5</td>\n",
              "      <td>40.7500</td>\n",
              "    </tr>\n",
              "    <tr>\n",
              "      <th>70.50</th>\n",
              "      <td>0.0</td>\n",
              "      <td>3.0</td>\n",
              "      <td>0.0</td>\n",
              "      <td>0.0</td>\n",
              "      <td>7.7500</td>\n",
              "    </tr>\n",
              "    <tr>\n",
              "      <th>71.00</th>\n",
              "      <td>0.0</td>\n",
              "      <td>1.0</td>\n",
              "      <td>0.0</td>\n",
              "      <td>0.0</td>\n",
              "      <td>42.0792</td>\n",
              "    </tr>\n",
              "    <tr>\n",
              "      <th>74.00</th>\n",
              "      <td>0.0</td>\n",
              "      <td>3.0</td>\n",
              "      <td>0.0</td>\n",
              "      <td>0.0</td>\n",
              "      <td>7.7750</td>\n",
              "    </tr>\n",
              "    <tr>\n",
              "      <th>80.00</th>\n",
              "      <td>1.0</td>\n",
              "      <td>1.0</td>\n",
              "      <td>0.0</td>\n",
              "      <td>0.0</td>\n",
              "      <td>30.0000</td>\n",
              "    </tr>\n",
              "  </tbody>\n",
              "</table>\n",
              "<p>89 rows × 5 columns</p>\n",
              "</div>"
            ],
            "text/plain": [
              "       Survived  Pclass  SibSp  Parch      Fare\n",
              "Age                                            \n",
              "0.42        1.0     3.0    0.0    1.0    8.5167\n",
              "0.67        1.0     2.0    1.0    1.0   14.5000\n",
              "0.75        1.0     3.0    2.0    1.0   19.2583\n",
              "0.83        1.0     2.0    0.5    1.5   23.8750\n",
              "0.92        1.0     1.0    1.0    2.0  151.5500\n",
              "...         ...     ...    ...    ...       ...\n",
              "70.00       0.0     1.5    0.5    0.5   40.7500\n",
              "70.50       0.0     3.0    0.0    0.0    7.7500\n",
              "71.00       0.0     1.0    0.0    0.0   42.0792\n",
              "74.00       0.0     3.0    0.0    0.0    7.7750\n",
              "80.00       1.0     1.0    0.0    0.0   30.0000\n",
              "\n",
              "[89 rows x 5 columns]"
            ]
          },
          "metadata": {
            "tags": []
          },
          "execution_count": 24
        }
      ]
    },
    {
      "cell_type": "code",
      "metadata": {
        "id": "mhvMdV7yORBa",
        "colab_type": "code",
        "outputId": "f7d9f451-c0de-4972-f192-325aeac96e24",
        "colab": {
          "base_uri": "https://localhost:8080/",
          "height": 279
        }
      },
      "source": [
        "import matplotlib.pyplot as plt\n",
        "cg['Survived'].plot.line('color=g')\n",
        "plt.ylabel('Survived')\n",
        "plt.show()"
      ],
      "execution_count": 0,
      "outputs": [
        {
          "output_type": "display_data",
          "data": {
            "image/png": "[encoded data removed]",
            "text/plain": [
              "<Figure size 432x288 with 1 Axes>"
            ]
          },
          "metadata": {
            "tags": [],
            "needs_background": "light"
          }
        }
      ]
    },
    {
      "cell_type": "markdown",
      "metadata": {
        "id": "-UJZn9KwOd9E",
        "colab_type": "text"
      },
      "source": [
        " **STEP4:Divide into input and output**"
      ]
    },
    {
      "cell_type": "markdown",
      "metadata": {
        "id": "ZpDDfC5GOo2i",
        "colab_type": "text"
      },
      "source": [
        "**Convert values of embarked and sex into numeric value**"
      ]
    },
    {
      "cell_type": "code",
      "metadata": {
        "id": "ordlRfQtOQxy",
        "colab_type": "code",
        "colab": {}
      },
      "source": [
        "Sex={'female':1,'male':2}\n",
        "df.Sex = [Sex[item] for item in df.Sex]\n"
      ],
      "execution_count": 0,
      "outputs": []
    },
    {
      "cell_type": "code",
      "metadata": {
        "id": "4ZFi8vg0OQkn",
        "colab_type": "code",
        "colab": {}
      },
      "source": [
        "Embarked={'S':0,'C':1,'Q':2}\n",
        "df.Embarked=[Embarked[item]for item in df.Embarked]"
      ],
      "execution_count": 0,
      "outputs": []
    },
    {
      "cell_type": "code",
      "metadata": {
        "id": "bXNLfgd3OQSo",
        "colab_type": "code",
        "outputId": "2b357570-ee67-43fa-b9a6-991ad0193528",
        "colab": {
          "base_uri": "https://localhost:8080/",
          "height": 419
        }
      },
      "source": [
        "df"
      ],
      "execution_count": 0,
      "outputs": [
        {
          "output_type": "execute_result",
          "data": {
            "text/html": [
              "<div>\n",
              "<style scoped>\n",
              "    .dataframe tbody tr th:only-of-type {\n",
              "        vertical-align: middle;\n",
              "    }\n",
              "\n",
              "    .dataframe tbody tr th {\n",
              "        vertical-align: top;\n",
              "    }\n",
              "\n",
              "    .dataframe thead th {\n",
              "        text-align: right;\n",
              "    }\n",
              "</style>\n",
              "<table border=\"1\" class=\"dataframe\">\n",
              "  <thead>\n",
              "    <tr style=\"text-align: right;\">\n",
              "      <th></th>\n",
              "      <th>Survived</th>\n",
              "      <th>Pclass</th>\n",
              "      <th>Sex</th>\n",
              "      <th>Age</th>\n",
              "      <th>SibSp</th>\n",
              "      <th>Parch</th>\n",
              "      <th>Fare</th>\n",
              "      <th>Embarked</th>\n",
              "    </tr>\n",
              "  </thead>\n",
              "  <tbody>\n",
              "    <tr>\n",
              "      <th>0</th>\n",
              "      <td>0</td>\n",
              "      <td>3</td>\n",
              "      <td>2</td>\n",
              "      <td>22.000000</td>\n",
              "      <td>1</td>\n",
              "      <td>0</td>\n",
              "      <td>7.2500</td>\n",
              "      <td>0</td>\n",
              "    </tr>\n",
              "    <tr>\n",
              "      <th>1</th>\n",
              "      <td>1</td>\n",
              "      <td>1</td>\n",
              "      <td>1</td>\n",
              "      <td>38.000000</td>\n",
              "      <td>1</td>\n",
              "      <td>0</td>\n",
              "      <td>71.2833</td>\n",
              "      <td>1</td>\n",
              "    </tr>\n",
              "    <tr>\n",
              "      <th>2</th>\n",
              "      <td>1</td>\n",
              "      <td>3</td>\n",
              "      <td>1</td>\n",
              "      <td>26.000000</td>\n",
              "      <td>0</td>\n",
              "      <td>0</td>\n",
              "      <td>7.9250</td>\n",
              "      <td>0</td>\n",
              "    </tr>\n",
              "    <tr>\n",
              "      <th>3</th>\n",
              "      <td>1</td>\n",
              "      <td>1</td>\n",
              "      <td>1</td>\n",
              "      <td>35.000000</td>\n",
              "      <td>1</td>\n",
              "      <td>0</td>\n",
              "      <td>53.1000</td>\n",
              "      <td>0</td>\n",
              "    </tr>\n",
              "    <tr>\n",
              "      <th>4</th>\n",
              "      <td>0</td>\n",
              "      <td>3</td>\n",
              "      <td>2</td>\n",
              "      <td>35.000000</td>\n",
              "      <td>0</td>\n",
              "      <td>0</td>\n",
              "      <td>8.0500</td>\n",
              "      <td>0</td>\n",
              "    </tr>\n",
              "    <tr>\n",
              "      <th>...</th>\n",
              "      <td>...</td>\n",
              "      <td>...</td>\n",
              "      <td>...</td>\n",
              "      <td>...</td>\n",
              "      <td>...</td>\n",
              "      <td>...</td>\n",
              "      <td>...</td>\n",
              "      <td>...</td>\n",
              "    </tr>\n",
              "    <tr>\n",
              "      <th>886</th>\n",
              "      <td>0</td>\n",
              "      <td>2</td>\n",
              "      <td>2</td>\n",
              "      <td>27.000000</td>\n",
              "      <td>0</td>\n",
              "      <td>0</td>\n",
              "      <td>13.0000</td>\n",
              "      <td>0</td>\n",
              "    </tr>\n",
              "    <tr>\n",
              "      <th>887</th>\n",
              "      <td>1</td>\n",
              "      <td>1</td>\n",
              "      <td>1</td>\n",
              "      <td>19.000000</td>\n",
              "      <td>0</td>\n",
              "      <td>0</td>\n",
              "      <td>30.0000</td>\n",
              "      <td>0</td>\n",
              "    </tr>\n",
              "    <tr>\n",
              "      <th>888</th>\n",
              "      <td>0</td>\n",
              "      <td>3</td>\n",
              "      <td>1</td>\n",
              "      <td>29.699118</td>\n",
              "      <td>1</td>\n",
              "      <td>2</td>\n",
              "      <td>23.4500</td>\n",
              "      <td>0</td>\n",
              "    </tr>\n",
              "    <tr>\n",
              "      <th>889</th>\n",
              "      <td>1</td>\n",
              "      <td>1</td>\n",
              "      <td>2</td>\n",
              "      <td>26.000000</td>\n",
              "      <td>0</td>\n",
              "      <td>0</td>\n",
              "      <td>30.0000</td>\n",
              "      <td>1</td>\n",
              "    </tr>\n",
              "    <tr>\n",
              "      <th>890</th>\n",
              "      <td>0</td>\n",
              "      <td>3</td>\n",
              "      <td>2</td>\n",
              "      <td>32.000000</td>\n",
              "      <td>0</td>\n",
              "      <td>0</td>\n",
              "      <td>7.7500</td>\n",
              "      <td>2</td>\n",
              "    </tr>\n",
              "  </tbody>\n",
              "</table>\n",
              "<p>891 rows × 8 columns</p>\n",
              "</div>"
            ],
            "text/plain": [
              "     Survived  Pclass  Sex        Age  SibSp  Parch     Fare  Embarked\n",
              "0           0       3    2  22.000000      1      0   7.2500         0\n",
              "1           1       1    1  38.000000      1      0  71.2833         1\n",
              "2           1       3    1  26.000000      0      0   7.9250         0\n",
              "3           1       1    1  35.000000      1      0  53.1000         0\n",
              "4           0       3    2  35.000000      0      0   8.0500         0\n",
              "..        ...     ...  ...        ...    ...    ...      ...       ...\n",
              "886         0       2    2  27.000000      0      0  13.0000         0\n",
              "887         1       1    1  19.000000      0      0  30.0000         0\n",
              "888         0       3    1  29.699118      1      2  23.4500         0\n",
              "889         1       1    2  26.000000      0      0  30.0000         1\n",
              "890         0       3    2  32.000000      0      0   7.7500         2\n",
              "\n",
              "[891 rows x 8 columns]"
            ]
          },
          "metadata": {
            "tags": []
          },
          "execution_count": 28
        }
      ]
    },
    {
      "cell_type": "code",
      "metadata": {
        "id": "b1OpwfuePEAK",
        "colab_type": "code",
        "colab": {}
      },
      "source": [
        "x=df.iloc[:,[1,2,3,7]].values\n",
        "y=df.iloc[:,0].values"
      ],
      "execution_count": 0,
      "outputs": []
    },
    {
      "cell_type": "markdown",
      "metadata": {
        "id": "MtYV734ZPF_1",
        "colab_type": "text"
      },
      "source": [
        "**Step5:Train and Test variables**"
      ]
    },
    {
      "cell_type": "code",
      "metadata": {
        "id": "TR312vHRPKZF",
        "colab_type": "code",
        "outputId": "0bcc2146-1189-4fd9-c2c7-9008961ef730",
        "colab": {
          "base_uri": "https://localhost:8080/",
          "height": 1000
        }
      },
      "source": [
        "from sklearn.model_selection import train_test_split\n",
        "x_train,x_test,y_train,y_test=train_test_split(x,y)\n",
        "print(x_train)\n",
        "print(x_test)"
      ],
      "execution_count": 0,
      "outputs": [
        {
          "output_type": "stream",
          "text": [
            "[[ 3.          2.         34.          0.        ]\n",
            " [ 2.          1.         27.          0.        ]\n",
            " [ 2.          1.         27.          1.        ]\n",
            " ...\n",
            " [ 3.          2.         29.69911765  0.        ]\n",
            " [ 3.          2.         43.          0.        ]\n",
            " [ 1.          2.         35.          1.        ]]\n",
            "[[ 3.          2.          4.          0.        ]\n",
            " [ 3.          2.         28.          0.        ]\n",
            " [ 3.          2.         29.69911765  2.        ]\n",
            " [ 3.          2.         21.          0.        ]\n",
            " [ 3.          2.         21.          0.        ]\n",
            " [ 1.          1.         16.          0.        ]\n",
            " [ 1.          1.         35.          0.        ]\n",
            " [ 3.          1.         26.          0.        ]\n",
            " [ 1.          1.         39.          1.        ]\n",
            " [ 1.          2.         29.69911765  0.        ]\n",
            " [ 3.          2.         26.          0.        ]\n",
            " [ 2.          2.         23.          0.        ]\n",
            " [ 1.          1.         36.          0.        ]\n",
            " [ 3.          2.         19.          0.        ]\n",
            " [ 3.          2.         23.5         1.        ]\n",
            " [ 3.          2.         39.          0.        ]\n",
            " [ 2.          2.         31.          1.        ]\n",
            " [ 3.          2.         35.          0.        ]\n",
            " [ 1.          1.         29.69911765  1.        ]\n",
            " [ 3.          2.         24.          0.        ]\n",
            " [ 2.          1.          4.          0.        ]\n",
            " [ 1.          2.         49.          1.        ]\n",
            " [ 3.          1.          8.          0.        ]\n",
            " [ 1.          1.         52.          1.        ]\n",
            " [ 3.          1.         23.          0.        ]\n",
            " [ 1.          2.         29.69911765  0.        ]\n",
            " [ 3.          1.          3.          0.        ]\n",
            " [ 3.          2.         32.          0.        ]\n",
            " [ 3.          1.         29.69911765  2.        ]\n",
            " [ 3.          2.         29.69911765  0.        ]\n",
            " [ 3.          1.         28.          0.        ]\n",
            " [ 3.          1.         29.69911765  0.        ]\n",
            " [ 2.          2.         29.69911765  0.        ]\n",
            " [ 2.          2.         36.          0.        ]\n",
            " [ 1.          2.         25.          1.        ]\n",
            " [ 3.          2.         35.          0.        ]\n",
            " [ 3.          2.          4.          0.        ]\n",
            " [ 3.          2.         33.          0.        ]\n",
            " [ 2.          1.         32.5         0.        ]\n",
            " [ 3.          2.         28.          0.        ]\n",
            " [ 3.          2.         34.          0.        ]\n",
            " [ 3.          2.         29.69911765  0.        ]\n",
            " [ 2.          2.         62.          0.        ]\n",
            " [ 3.          2.         17.          0.        ]\n",
            " [ 2.          1.         28.          0.        ]\n",
            " [ 3.          1.         29.69911765  2.        ]\n",
            " [ 3.          1.         11.          0.        ]\n",
            " [ 3.          2.         33.          1.        ]\n",
            " [ 3.          2.         29.69911765  2.        ]\n",
            " [ 2.          2.          0.83        0.        ]\n",
            " [ 3.          2.         26.          0.        ]\n",
            " [ 3.          2.         18.          0.        ]\n",
            " [ 2.          2.         66.          0.        ]\n",
            " [ 2.          2.         24.          0.        ]\n",
            " [ 3.          2.         29.69911765  0.        ]\n",
            " [ 3.          2.         29.69911765  0.        ]\n",
            " [ 3.          1.         15.          1.        ]\n",
            " [ 2.          2.         31.          0.        ]\n",
            " [ 1.          2.         29.69911765  0.        ]\n",
            " [ 3.          2.         29.69911765  2.        ]\n",
            " [ 1.          1.         35.          0.        ]\n",
            " [ 1.          2.         48.          0.        ]\n",
            " [ 3.          2.         29.69911765  1.        ]\n",
            " [ 3.          1.         18.          0.        ]\n",
            " [ 1.          2.         28.          0.        ]\n",
            " [ 3.          2.         51.          0.        ]\n",
            " [ 3.          1.         29.69911765  2.        ]\n",
            " [ 2.          2.         18.          0.        ]\n",
            " [ 3.          2.         25.          1.        ]\n",
            " [ 1.          2.         35.          0.        ]\n",
            " [ 3.          1.         47.          0.        ]\n",
            " [ 2.          2.         29.69911765  1.        ]\n",
            " [ 1.          1.         30.          0.        ]\n",
            " [ 1.          2.         27.          1.        ]\n",
            " [ 3.          2.         29.69911765  0.        ]\n",
            " [ 3.          1.          2.          0.        ]\n",
            " [ 2.          2.         25.          0.        ]\n",
            " [ 3.          1.         35.          0.        ]\n",
            " [ 3.          2.         29.69911765  0.        ]\n",
            " [ 2.          1.         45.          0.        ]\n",
            " [ 3.          2.         22.          0.        ]\n",
            " [ 3.          2.         41.          0.        ]\n",
            " [ 3.          2.         29.          0.        ]\n",
            " [ 2.          1.         26.          0.        ]\n",
            " [ 1.          1.         54.          1.        ]\n",
            " [ 2.          2.         19.          0.        ]\n",
            " [ 3.          2.         29.69911765  0.        ]\n",
            " [ 3.          2.         22.          1.        ]\n",
            " [ 1.          2.         71.          1.        ]\n",
            " [ 3.          2.         44.          0.        ]\n",
            " [ 2.          2.         30.          0.        ]\n",
            " [ 3.          2.         22.          0.        ]\n",
            " [ 1.          2.         40.          0.        ]\n",
            " [ 2.          2.          1.          0.        ]\n",
            " [ 2.          1.          7.          0.        ]\n",
            " [ 3.          2.         19.          2.        ]\n",
            " [ 1.          2.         45.          0.        ]\n",
            " [ 1.          1.         48.          0.        ]\n",
            " [ 3.          2.         42.          0.        ]\n",
            " [ 3.          2.         16.          0.        ]\n",
            " [ 3.          2.         21.          0.        ]\n",
            " [ 1.          1.         63.          0.        ]\n",
            " [ 3.          2.         20.          0.        ]\n",
            " [ 1.          1.         19.          0.        ]\n",
            " [ 2.          1.         17.          1.        ]\n",
            " [ 3.          2.         26.          0.        ]\n",
            " [ 3.          2.         29.69911765  2.        ]\n",
            " [ 3.          2.         59.          0.        ]\n",
            " [ 3.          2.         29.69911765  1.        ]\n",
            " [ 3.          2.         29.69911765  0.        ]\n",
            " [ 2.          2.         24.          0.        ]\n",
            " [ 1.          2.         29.69911765  0.        ]\n",
            " [ 3.          1.         29.69911765  2.        ]\n",
            " [ 1.          1.         21.          0.        ]\n",
            " [ 3.          2.         31.          0.        ]\n",
            " [ 3.          2.         29.69911765  0.        ]\n",
            " [ 3.          1.         31.          0.        ]\n",
            " [ 3.          2.          1.          0.        ]\n",
            " [ 2.          1.         36.          0.        ]\n",
            " [ 1.          2.         37.          1.        ]\n",
            " [ 1.          1.         23.          0.        ]\n",
            " [ 3.          2.         21.          0.        ]\n",
            " [ 3.          2.         50.          0.        ]\n",
            " [ 1.          2.         38.          0.        ]\n",
            " [ 2.          2.         36.          0.        ]\n",
            " [ 2.          2.          0.67        0.        ]\n",
            " [ 2.          2.         60.          0.        ]\n",
            " [ 2.          2.         52.          0.        ]\n",
            " [ 2.          2.         48.          0.        ]\n",
            " [ 3.          2.         29.69911765  2.        ]\n",
            " [ 3.          2.         40.          0.        ]\n",
            " [ 2.          2.         52.          0.        ]\n",
            " [ 1.          1.         29.69911765  1.        ]\n",
            " [ 3.          2.         38.          0.        ]\n",
            " [ 2.          1.         24.          0.        ]\n",
            " [ 2.          1.         14.          1.        ]\n",
            " [ 3.          2.         20.          0.        ]\n",
            " [ 3.          2.         19.          0.        ]\n",
            " [ 3.          1.         29.69911765  2.        ]\n",
            " [ 2.          2.         29.          0.        ]\n",
            " [ 3.          2.         19.          0.        ]\n",
            " [ 3.          2.         29.69911765  0.        ]\n",
            " [ 3.          2.         29.69911765  0.        ]\n",
            " [ 3.          2.         29.69911765  0.        ]\n",
            " [ 3.          1.         29.69911765  0.        ]\n",
            " [ 3.          2.         29.69911765  0.        ]\n",
            " [ 2.          1.         34.          0.        ]\n",
            " [ 2.          1.         57.          0.        ]\n",
            " [ 2.          2.         31.          0.        ]\n",
            " [ 3.          1.         31.          0.        ]\n",
            " [ 3.          2.         24.          0.        ]\n",
            " [ 1.          1.         38.          1.        ]\n",
            " [ 1.          2.         37.          0.        ]\n",
            " [ 3.          2.         26.          0.        ]\n",
            " [ 3.          2.         29.69911765  1.        ]\n",
            " [ 3.          2.         29.69911765  0.        ]\n",
            " [ 3.          2.         10.          0.        ]\n",
            " [ 2.          2.         19.          0.        ]\n",
            " [ 3.          2.         61.          0.        ]\n",
            " [ 2.          2.          3.          0.        ]\n",
            " [ 2.          2.         42.          0.        ]\n",
            " [ 1.          2.         70.          0.        ]\n",
            " [ 3.          1.         26.          0.        ]\n",
            " [ 1.          1.         16.          1.        ]\n",
            " [ 3.          1.         29.          0.        ]\n",
            " [ 1.          1.         21.          1.        ]\n",
            " [ 3.          2.         30.          1.        ]\n",
            " [ 1.          2.         28.          1.        ]\n",
            " [ 1.          2.         51.          1.        ]\n",
            " [ 3.          2.         24.          0.        ]\n",
            " [ 3.          2.         29.69911765  2.        ]\n",
            " [ 2.          1.         55.          0.        ]\n",
            " [ 3.          2.         16.          0.        ]\n",
            " [ 3.          2.         20.          0.        ]\n",
            " [ 3.          2.         16.          0.        ]\n",
            " [ 2.          2.         24.          0.        ]\n",
            " [ 3.          1.         24.          0.        ]\n",
            " [ 3.          2.         29.69911765  0.        ]\n",
            " [ 2.          1.         24.          0.        ]\n",
            " [ 2.          1.         24.          0.        ]\n",
            " [ 1.          2.         44.          2.        ]\n",
            " [ 2.          2.         51.          0.        ]\n",
            " [ 3.          2.         48.          0.        ]\n",
            " [ 3.          1.         18.          1.        ]\n",
            " [ 1.          2.         52.          0.        ]\n",
            " [ 3.          1.         29.69911765  1.        ]\n",
            " [ 2.          2.         25.          1.        ]\n",
            " [ 1.          1.         24.          0.        ]\n",
            " [ 2.          2.         35.          0.        ]\n",
            " [ 3.          2.         25.          0.        ]\n",
            " [ 1.          2.         52.          0.        ]\n",
            " [ 3.          2.         27.          1.        ]\n",
            " [ 3.          1.         29.          1.        ]\n",
            " [ 1.          1.         53.          0.        ]\n",
            " [ 2.          1.         54.          0.        ]\n",
            " [ 1.          1.         45.          0.        ]\n",
            " [ 2.          2.         27.          0.        ]\n",
            " [ 1.          1.         29.69911765  1.        ]\n",
            " [ 3.          2.         26.          0.        ]\n",
            " [ 3.          2.          7.          0.        ]\n",
            " [ 1.          2.         45.          0.        ]\n",
            " [ 2.          2.          2.          0.        ]\n",
            " [ 3.          2.         29.69911765  0.        ]\n",
            " [ 2.          2.         32.          0.        ]\n",
            " [ 3.          1.         21.          2.        ]\n",
            " [ 3.          2.         17.          0.        ]\n",
            " [ 3.          1.         29.69911765  2.        ]\n",
            " [ 3.          2.         25.          0.        ]\n",
            " [ 2.          2.         44.          0.        ]\n",
            " [ 3.          2.         27.          0.        ]\n",
            " [ 3.          2.         44.          0.        ]\n",
            " [ 3.          1.         18.          0.        ]\n",
            " [ 2.          1.         28.          0.        ]\n",
            " [ 3.          2.         19.          0.        ]\n",
            " [ 3.          2.         23.          0.        ]\n",
            " [ 1.          2.         40.          1.        ]\n",
            " [ 2.          1.         22.          1.        ]\n",
            " [ 2.          1.         31.          0.        ]\n",
            " [ 1.          2.         48.          1.        ]\n",
            " [ 1.          2.         21.          0.        ]\n",
            " [ 3.          2.         21.          0.        ]\n",
            " [ 3.          2.         29.69911765  0.        ]\n",
            " [ 1.          2.         17.          1.        ]]\n"
          ],
          "name": "stdout"
        }
      ]
    },
    {
      "cell_type": "code",
      "metadata": {
        "id": "rFHnudq-PLBl",
        "colab_type": "code",
        "outputId": "b50d0395-50c5-473a-fadf-80e37964568a",
        "colab": {
          "base_uri": "https://localhost:8080/",
          "height": 51
        }
      },
      "source": [
        "print(x_train.shape)\n",
        "print(x_test.shape)"
      ],
      "execution_count": 0,
      "outputs": [
        {
          "output_type": "stream",
          "text": [
            "(668, 4)\n",
            "(223, 4)\n"
          ],
          "name": "stdout"
        }
      ]
    },
    {
      "cell_type": "markdown",
      "metadata": {
        "id": "34WXroURPpmG",
        "colab_type": "text"
      },
      "source": [
        "**STEP6:Normalization**"
      ]
    },
    {
      "cell_type": "code",
      "metadata": {
        "id": "HxB-tVMmPwNN",
        "colab_type": "code",
        "colab": {}
      },
      "source": [
        "from sklearn.preprocessing import StandardScaler\n",
        "scaler=StandardScaler()\n",
        "x_train=scaler.fit_transform(x_train)\n",
        "x_test=scaler.transform(x_test)"
      ],
      "execution_count": 0,
      "outputs": []
    },
    {
      "cell_type": "markdown",
      "metadata": {
        "id": "3DpOGeWOQaXc",
        "colab_type": "text"
      },
      "source": [
        "**Building machine learning model using Logistic Regression**"
      ]
    },
    {
      "cell_type": "markdown",
      "metadata": {
        "id": "CoF6hvsgZVcq",
        "colab_type": "text"
      },
      "source": [
        "**STEP7:Run a clasifier**"
      ]
    },
    {
      "cell_type": "code",
      "metadata": {
        "id": "AAiaI60TPyaj",
        "colab_type": "code",
        "colab": {}
      },
      "source": [
        "from sklearn.linear_model import LogisticRegression\n",
        "model=LogisticRegression()"
      ],
      "execution_count": 0,
      "outputs": []
    },
    {
      "cell_type": "markdown",
      "metadata": {
        "id": "g2bClOBOZbIt",
        "colab_type": "text"
      },
      "source": [
        "**STEP8:Fit the model**"
      ]
    },
    {
      "cell_type": "code",
      "metadata": {
        "id": "db9fIfXiZI3Q",
        "colab_type": "code",
        "outputId": "77b74386-95aa-4eab-8678-64f3676efb0c",
        "colab": {
          "base_uri": "https://localhost:8080/",
          "height": 102
        }
      },
      "source": [
        "model.fit(x_train,y_train)"
      ],
      "execution_count": 0,
      "outputs": [
        {
          "output_type": "execute_result",
          "data": {
            "text/plain": [
              "LogisticRegression(C=1.0, class_weight=None, dual=False, fit_intercept=True,\n",
              "                   intercept_scaling=1, l1_ratio=None, max_iter=100,\n",
              "                   multi_class='auto', n_jobs=None, penalty='l2',\n",
              "                   random_state=None, solver='lbfgs', tol=0.0001, verbose=0,\n",
              "                   warm_start=False)"
            ]
          },
          "metadata": {
            "tags": []
          },
          "execution_count": 34
        }
      ]
    },
    {
      "cell_type": "markdown",
      "metadata": {
        "id": "GN0zru_0Zhbo",
        "colab_type": "text"
      },
      "source": [
        "**STEP9:Predicting the output**"
      ]
    },
    {
      "cell_type": "code",
      "metadata": {
        "id": "y7o1pE76ZlkZ",
        "colab_type": "code",
        "outputId": "c3347818-390a-436f-ee67-2981e12fd0c3",
        "colab": {
          "base_uri": "https://localhost:8080/",
          "height": 204
        }
      },
      "source": [
        "y_pred=model.predict(x_test)\n",
        "y_pred"
      ],
      "execution_count": 0,
      "outputs": [
        {
          "output_type": "execute_result",
          "data": {
            "text/plain": [
              "array([0, 0, 0, 0, 0, 1, 1, 1, 1, 0, 0, 0, 1, 0, 0, 0, 0, 0, 1, 0, 1, 0,\n",
              "       1, 1, 1, 0, 1, 0, 1, 0, 1, 1, 0, 0, 1, 0, 0, 0, 1, 0, 0, 0, 0, 0,\n",
              "       1, 1, 1, 0, 0, 0, 0, 0, 0, 0, 0, 0, 1, 0, 0, 0, 1, 0, 0, 1, 0, 0,\n",
              "       1, 0, 0, 0, 0, 0, 1, 1, 0, 1, 0, 0, 0, 1, 0, 0, 0, 1, 1, 0, 0, 0,\n",
              "       0, 0, 0, 0, 0, 0, 1, 0, 0, 1, 0, 0, 0, 1, 0, 1, 1, 0, 0, 0, 0, 0,\n",
              "       0, 0, 1, 1, 0, 0, 0, 0, 1, 0, 1, 0, 0, 0, 0, 0, 0, 0, 0, 0, 0, 0,\n",
              "       1, 0, 1, 1, 0, 0, 1, 0, 0, 0, 0, 0, 1, 0, 1, 1, 0, 0, 0, 1, 0, 0,\n",
              "       0, 0, 0, 0, 0, 0, 0, 0, 1, 1, 1, 1, 0, 1, 0, 0, 0, 1, 0, 0, 0, 0,\n",
              "       1, 0, 1, 1, 1, 0, 0, 1, 0, 1, 0, 1, 0, 0, 0, 0, 1, 1, 1, 1, 0, 1,\n",
              "       0, 0, 0, 0, 0, 0, 1, 0, 1, 0, 0, 0, 0, 1, 1, 0, 0, 0, 1, 1, 0, 1,\n",
              "       0, 0, 1])"
            ]
          },
          "metadata": {
            "tags": []
          },
          "execution_count": 35
        }
      ]
    },
    {
      "cell_type": "code",
      "metadata": {
        "id": "dri4bv25ZxM4",
        "colab_type": "code",
        "outputId": "7925e11c-8eb1-4c49-ae75-c7ce14d3ab22",
        "colab": {
          "base_uri": "https://localhost:8080/",
          "height": 204
        }
      },
      "source": [
        "#Real output\n",
        "y_test"
      ],
      "execution_count": 0,
      "outputs": [
        {
          "output_type": "execute_result",
          "data": {
            "text/plain": [
              "array([0, 0, 0, 0, 0, 1, 1, 1, 1, 0, 0, 0, 1, 0, 0, 1, 0, 0, 1, 0, 1, 0,\n",
              "       0, 1, 1, 0, 0, 0, 1, 0, 0, 0, 0, 0, 1, 0, 1, 0, 1, 0, 0, 0, 1, 0,\n",
              "       1, 1, 0, 0, 0, 1, 0, 0, 0, 0, 1, 0, 1, 0, 1, 0, 1, 1, 0, 1, 1, 0,\n",
              "       1, 0, 0, 1, 0, 0, 1, 0, 0, 0, 0, 1, 0, 1, 0, 0, 0, 0, 1, 0, 0, 0,\n",
              "       0, 0, 0, 0, 0, 1, 1, 0, 0, 1, 0, 0, 0, 1, 0, 1, 1, 1, 1, 0, 1, 0,\n",
              "       0, 1, 1, 1, 1, 0, 0, 0, 1, 0, 1, 0, 0, 1, 0, 1, 0, 0, 0, 0, 0, 0,\n",
              "       1, 0, 1, 1, 0, 0, 0, 0, 0, 0, 0, 0, 1, 1, 1, 0, 1, 1, 0, 1, 1, 0,\n",
              "       0, 0, 0, 0, 0, 1, 1, 0, 1, 1, 0, 1, 0, 0, 0, 0, 0, 1, 0, 1, 1, 0,\n",
              "       0, 0, 1, 1, 0, 0, 0, 0, 1, 0, 0, 1, 0, 0, 0, 0, 1, 1, 1, 1, 0, 1,\n",
              "       0, 0, 0, 1, 0, 0, 0, 0, 1, 0, 0, 1, 1, 0, 1, 0, 0, 1, 1, 1, 1, 0,\n",
              "       0, 0, 1])"
            ]
          },
          "metadata": {
            "tags": []
          },
          "execution_count": 36
        }
      ]
    },
    {
      "cell_type": "markdown",
      "metadata": {
        "id": "tU6RO2heZ8sD",
        "colab_type": "text"
      },
      "source": [
        "**STEP10:Accuracy score and Confusion matrix**"
      ]
    },
    {
      "cell_type": "code",
      "metadata": {
        "id": "ou-GL9VpaFY8",
        "colab_type": "code",
        "outputId": "224b0f7f-2ce0-419e-b55d-76ba57272b0e",
        "colab": {
          "base_uri": "https://localhost:8080/",
          "height": 34
        }
      },
      "source": [
        "from sklearn.metrics import accuracy_score\n",
        "accuracy_score(y_test,y_pred)*100"
      ],
      "execution_count": 0,
      "outputs": [
        {
          "output_type": "execute_result",
          "data": {
            "text/plain": [
              "77.13004484304933"
            ]
          },
          "metadata": {
            "tags": []
          },
          "execution_count": 37
        }
      ]
    },
    {
      "cell_type": "markdown",
      "metadata": {
        "id": "f77y8o_4cwJ_",
        "colab_type": "text"
      },
      "source": [
        "**Checking probability**"
      ]
    },
    {
      "cell_type": "code",
      "metadata": {
        "id": "wiVC2t9za6hT",
        "colab_type": "code",
        "outputId": "dce64e71-2022-47d2-ff5f-954b94d7263a",
        "colab": {
          "base_uri": "https://localhost:8080/",
          "height": 34
        }
      },
      "source": [
        "test = [[2,1,30,2]]\n",
        "test = scaler.transform(test) \n",
        "model.predict_proba(test)"
      ],
      "execution_count": 0,
      "outputs": [
        {
          "output_type": "execute_result",
          "data": {
            "text/plain": [
              "array([[0.1216562, 0.8783438]])"
            ]
          },
          "metadata": {
            "tags": []
          },
          "execution_count": 39
        }
      ]
    },
    {
      "cell_type": "code",
      "metadata": {
        "id": "9NfGN3CmcJ8i",
        "colab_type": "code",
        "outputId": "31e95963-d23e-4a50-d87d-61864888ce45",
        "colab": {
          "base_uri": "https://localhost:8080/",
          "height": 51
        }
      },
      "source": [
        "from sklearn.metrics import accuracy_score,confusion_matrix,classification_report\n",
        "confusion_matrix(y_test,y_pred)"
      ],
      "execution_count": 0,
      "outputs": [
        {
          "output_type": "execute_result",
          "data": {
            "text/plain": [
              "array([[119,  19],\n",
              "       [ 32,  53]])"
            ]
          },
          "metadata": {
            "tags": []
          },
          "execution_count": 41
        }
      ]
    },
    {
      "cell_type": "code",
      "metadata": {
        "id": "8V8lrExVcJuz",
        "colab_type": "code",
        "outputId": "b69c720c-1b0d-4fbd-95e9-3af8ae866221",
        "colab": {
          "base_uri": "https://localhost:8080/",
          "height": 170
        }
      },
      "source": [
        "print(classification_report(y_test,y_pred))"
      ],
      "execution_count": 0,
      "outputs": [
        {
          "output_type": "stream",
          "text": [
            "              precision    recall  f1-score   support\n",
            "\n",
            "           0       0.79      0.86      0.82       138\n",
            "           1       0.74      0.62      0.68        85\n",
            "\n",
            "    accuracy                           0.77       223\n",
            "   macro avg       0.76      0.74      0.75       223\n",
            "weighted avg       0.77      0.77      0.77       223\n",
            "\n"
          ],
          "name": "stdout"
        }
      ]
    },
    {
      "cell_type": "markdown",
      "metadata": {
        "id": "RRpbOUjYdHRa",
        "colab_type": "text"
      },
      "source": [
        "**Building a machine learning model using K Nearest Neighbours (KNN)**"
      ]
    },
    {
      "cell_type": "markdown",
      "metadata": {
        "id": "Uiw27TNSdZh6",
        "colab_type": "text"
      },
      "source": [
        "**STEP7:Run a clasifier**"
      ]
    },
    {
      "cell_type": "code",
      "metadata": {
        "id": "6Qwtzs3PcJib",
        "colab_type": "code",
        "colab": {}
      },
      "source": [
        "from sklearn.neighbors import KNeighborsClassifier\n",
        "model = KNeighborsClassifier(n_neighbors =50 ,metric = 'euclidean')"
      ],
      "execution_count": 0,
      "outputs": []
    },
    {
      "cell_type": "markdown",
      "metadata": {
        "id": "C22JgBWGd1ms",
        "colab_type": "text"
      },
      "source": [
        "**STEP8:Fit the model**"
      ]
    },
    {
      "cell_type": "code",
      "metadata": {
        "id": "HJudqaTxcJba",
        "colab_type": "code",
        "outputId": "af25fe4b-60fc-474a-d385-8c656180c025",
        "colab": {
          "base_uri": "https://localhost:8080/",
          "height": 68
        }
      },
      "source": [
        "model.fit(x_train,y_train)"
      ],
      "execution_count": 0,
      "outputs": [
        {
          "output_type": "execute_result",
          "data": {
            "text/plain": [
              "KNeighborsClassifier(algorithm='auto', leaf_size=30, metric='euclidean',\n",
              "                     metric_params=None, n_jobs=None, n_neighbors=50, p=2,\n",
              "                     weights='uniform')"
            ]
          },
          "metadata": {
            "tags": []
          },
          "execution_count": 44
        }
      ]
    },
    {
      "cell_type": "markdown",
      "metadata": {
        "id": "GWrwvmLtd-X_",
        "colab_type": "text"
      },
      "source": [
        "**STEP9:Predicting the output**"
      ]
    },
    {
      "cell_type": "code",
      "metadata": {
        "id": "lHmTV5tzcJXP",
        "colab_type": "code",
        "outputId": "8cd83f70-bc6b-460a-ee6a-3cb286db9d3e",
        "colab": {
          "base_uri": "https://localhost:8080/",
          "height": 204
        }
      },
      "source": [
        "y_pred=model.predict(x_test)\n",
        "y_pred"
      ],
      "execution_count": 0,
      "outputs": [
        {
          "output_type": "execute_result",
          "data": {
            "text/plain": [
              "array([0, 0, 0, 0, 0, 1, 1, 0, 1, 0, 0, 0, 1, 0, 0, 0, 0, 0, 1, 0, 1, 0,\n",
              "       1, 1, 0, 0, 1, 0, 1, 0, 0, 0, 0, 0, 0, 0, 0, 0, 1, 0, 0, 0, 0, 0,\n",
              "       1, 1, 1, 0, 0, 0, 0, 0, 0, 0, 0, 0, 1, 0, 0, 0, 1, 0, 0, 0, 0, 0,\n",
              "       1, 0, 0, 0, 0, 0, 1, 0, 0, 1, 0, 0, 0, 1, 0, 0, 0, 1, 1, 0, 0, 0,\n",
              "       0, 0, 0, 0, 0, 0, 1, 0, 0, 1, 0, 0, 0, 1, 0, 1, 1, 0, 0, 0, 0, 0,\n",
              "       0, 0, 1, 1, 0, 0, 0, 0, 1, 0, 1, 0, 0, 0, 0, 0, 0, 0, 0, 0, 0, 0,\n",
              "       1, 0, 1, 1, 0, 0, 1, 0, 0, 0, 0, 0, 0, 0, 1, 1, 0, 0, 0, 1, 0, 0,\n",
              "       0, 0, 0, 0, 0, 0, 0, 0, 0, 1, 0, 1, 0, 0, 0, 0, 0, 1, 0, 0, 0, 0,\n",
              "       0, 0, 1, 1, 0, 0, 0, 1, 0, 1, 0, 1, 0, 0, 0, 0, 1, 1, 1, 1, 0, 1,\n",
              "       0, 0, 0, 0, 0, 0, 1, 0, 1, 0, 0, 0, 0, 0, 1, 0, 0, 0, 1, 1, 0, 0,\n",
              "       0, 0, 0])"
            ]
          },
          "metadata": {
            "tags": []
          },
          "execution_count": 45
        }
      ]
    },
    {
      "cell_type": "code",
      "metadata": {
        "id": "H12NKAgUed6F",
        "colab_type": "code",
        "outputId": "529ebd6c-498c-468f-a6bb-76cfcf40530e",
        "colab": {
          "base_uri": "https://localhost:8080/",
          "height": 204
        }
      },
      "source": [
        "#Real output\n",
        "y_test"
      ],
      "execution_count": 0,
      "outputs": [
        {
          "output_type": "execute_result",
          "data": {
            "text/plain": [
              "array([0, 0, 0, 0, 0, 1, 1, 1, 1, 0, 0, 0, 1, 0, 0, 1, 0, 0, 1, 0, 1, 0,\n",
              "       0, 1, 1, 0, 0, 0, 1, 0, 0, 0, 0, 0, 1, 0, 1, 0, 1, 0, 0, 0, 1, 0,\n",
              "       1, 1, 0, 0, 0, 1, 0, 0, 0, 0, 1, 0, 1, 0, 1, 0, 1, 1, 0, 1, 1, 0,\n",
              "       1, 0, 0, 1, 0, 0, 1, 0, 0, 0, 0, 1, 0, 1, 0, 0, 0, 0, 1, 0, 0, 0,\n",
              "       0, 0, 0, 0, 0, 1, 1, 0, 0, 1, 0, 0, 0, 1, 0, 1, 1, 1, 1, 0, 1, 0,\n",
              "       0, 1, 1, 1, 1, 0, 0, 0, 1, 0, 1, 0, 0, 1, 0, 1, 0, 0, 0, 0, 0, 0,\n",
              "       1, 0, 1, 1, 0, 0, 0, 0, 0, 0, 0, 0, 1, 1, 1, 0, 1, 1, 0, 1, 1, 0,\n",
              "       0, 0, 0, 0, 0, 1, 1, 0, 1, 1, 0, 1, 0, 0, 0, 0, 0, 1, 0, 1, 1, 0,\n",
              "       0, 0, 1, 1, 0, 0, 0, 0, 1, 0, 0, 1, 0, 0, 0, 0, 1, 1, 1, 1, 0, 1,\n",
              "       0, 0, 0, 1, 0, 0, 0, 0, 1, 0, 0, 1, 1, 0, 1, 0, 0, 1, 1, 1, 1, 0,\n",
              "       0, 0, 1])"
            ]
          },
          "metadata": {
            "tags": []
          },
          "execution_count": 46
        }
      ]
    },
    {
      "cell_type": "markdown",
      "metadata": {
        "id": "cPviI4c6eilP",
        "colab_type": "text"
      },
      "source": [
        "**STEP10:Accuracy score and Confusion matrix**"
      ]
    },
    {
      "cell_type": "code",
      "metadata": {
        "id": "hDZFc2N6ek_v",
        "colab_type": "code",
        "outputId": "92e6d347-7ef4-4636-c7b0-db2879d4d564",
        "colab": {
          "base_uri": "https://localhost:8080/",
          "height": 34
        }
      },
      "source": [
        "from sklearn.metrics import accuracy_score\n",
        "accuracy_score(y_test,y_pred)*100"
      ],
      "execution_count": 0,
      "outputs": [
        {
          "output_type": "execute_result",
          "data": {
            "text/plain": [
              "78.02690582959642"
            ]
          },
          "metadata": {
            "tags": []
          },
          "execution_count": 49
        }
      ]
    },
    {
      "cell_type": "code",
      "metadata": {
        "id": "JA4bk_xCfrZ4",
        "colab_type": "code",
        "outputId": "0181f4f8-eab1-4341-e76d-18054d2523ea",
        "colab": {
          "base_uri": "https://localhost:8080/",
          "height": 51
        }
      },
      "source": [
        "from sklearn.metrics import accuracy_score,confusion_matrix,classification_report\n",
        "confusion_matrix(y_test,y_pred)"
      ],
      "execution_count": 0,
      "outputs": [
        {
          "output_type": "execute_result",
          "data": {
            "text/plain": [
              "array([[128,  10],\n",
              "       [ 39,  46]])"
            ]
          },
          "metadata": {
            "tags": []
          },
          "execution_count": 50
        }
      ]
    },
    {
      "cell_type": "code",
      "metadata": {
        "id": "7YfciKw-fvfZ",
        "colab_type": "code",
        "outputId": "91c2c228-dbc6-44ad-8c6a-de5f278af9d9",
        "colab": {
          "base_uri": "https://localhost:8080/",
          "height": 170
        }
      },
      "source": [
        "print(classification_report(y_test,y_pred))"
      ],
      "execution_count": 0,
      "outputs": [
        {
          "output_type": "stream",
          "text": [
            "              precision    recall  f1-score   support\n",
            "\n",
            "           0       0.77      0.93      0.84       138\n",
            "           1       0.82      0.54      0.65        85\n",
            "\n",
            "    accuracy                           0.78       223\n",
            "   macro avg       0.79      0.73      0.75       223\n",
            "weighted avg       0.79      0.78      0.77       223\n",
            "\n"
          ],
          "name": "stdout"
        }
      ]
    },
    {
      "cell_type": "markdown",
      "metadata": {
        "id": "KmJBO4mwgCvH",
        "colab_type": "text"
      },
      "source": [
        "*Accuracy using Logistic Regression is 77.13004484304933*\n",
        "   \n",
        "   \n",
        "*Accuracy using KNN is 78.02690582959642*\n"
      ]
    }
  ]
}